{
 "cells": [
  {
   "cell_type": "code",
   "execution_count": 191,
   "metadata": {},
   "outputs": [],
   "source": [
    "import pandas as pd\n",
    "import datetime\n",
    "import pymystem3\n",
    "import pymorphy3\n",
    "import textdistance\n",
    "import numpy as np\n",
    "from nltk.stem import SnowballStemmer"
   ]
  },
  {
   "cell_type": "markdown",
   "metadata": {},
   "source": [
    "## Извлечение дат"
   ]
  },
  {
   "cell_type": "code",
   "execution_count": 192,
   "metadata": {},
   "outputs": [],
   "source": [
    "df = pd.DataFrame(columns=['date', 'weather'])"
   ]
  },
  {
   "cell_type": "code",
   "execution_count": 193,
   "metadata": {},
   "outputs": [
    {
     "name": "stdout",
     "output_type": "stream",
     "text": [
      "10 January 11:45      \n"
     ]
    }
   ],
   "source": [
    "months = {\n",
    "    \"Января\" : \"January\",\n",
    "    \"Февраля\" : \"February\",\n",
    "    \"Марта\" : \"March\",\n",
    "    \"Апреля\" : \"April\",\n",
    "    \"Мая\" : \"May\",\n",
    "    \"Июня\" : \"June\",\n",
    "    \"Июля\" : \"July\",\n",
    "    \"Августа\" : \"August\",\n",
    "    \"Сентября\" : \"September\",\n",
    "    \"Октября\" : \"October\",\n",
    "    \"Ноября\" : \"November\",\n",
    "    \"Декабря\" : \"December\"\n",
    "}\n",
    "\n",
    "def parse_time(s : str) -> list[str]:\n",
    "    for ru_month in months.keys():\n",
    "        s = s.replace(ru_month, months[ru_month])\n",
    "    l = list(s)\n",
    "    i1 = l.index('[')\n",
    "    i2 = l.index(' ', i1)\n",
    "    l[i2] = ':'\n",
    "    l.remove('[')\n",
    "    l.remove(']')\n",
    "    return \"\".join(l)\n",
    "\n",
    "print(parse_time('10 Января [11 45]      '))"
   ]
  },
  {
   "cell_type": "code",
   "execution_count": 194,
   "metadata": {},
   "outputs": [],
   "source": [
    "def extract_date_weather(line : str) -> tuple[datetime.datetime, str]:\n",
    "    l = line.split('\"')\n",
    "    date_string = parse_time(l[1])\n",
    "    date = datetime.datetime.strptime(date_string, \"%d %B %Y %H:%M\")\n",
    "    return (date, l[3])"
   ]
  },
  {
   "cell_type": "code",
   "execution_count": 195,
   "metadata": {},
   "outputs": [],
   "source": [
    "weather = {\"date\" : [], \"weather\" : []}"
   ]
  },
  {
   "cell_type": "code",
   "execution_count": 196,
   "metadata": {},
   "outputs": [],
   "source": [
    "with open(\"data/dataMeteo.txt\") as data_file, open(\"data/dataMeteo_new.txt\") as data_file_new:\n",
    "    for line1, line2 in zip(data_file, data_file_new):\n",
    "        for l in (line1, line2):\n",
    "            t = extract_date_weather(l)\n",
    "            weather['date'].append(t[0])\n",
    "            weather['weather'].append(t[1])\n"
   ]
  },
  {
   "cell_type": "code",
   "execution_count": 197,
   "metadata": {},
   "outputs": [
    {
     "data": {
      "text/html": [
       "<div>\n",
       "<style scoped>\n",
       "    .dataframe tbody tr th:only-of-type {\n",
       "        vertical-align: middle;\n",
       "    }\n",
       "\n",
       "    .dataframe tbody tr th {\n",
       "        vertical-align: top;\n",
       "    }\n",
       "\n",
       "    .dataframe thead th {\n",
       "        text-align: right;\n",
       "    }\n",
       "</style>\n",
       "<table border=\"1\" class=\"dataframe\">\n",
       "  <thead>\n",
       "    <tr style=\"text-align: right;\">\n",
       "      <th></th>\n",
       "      <th>date</th>\n",
       "      <th>weather</th>\n",
       "    </tr>\n",
       "  </thead>\n",
       "  <tbody>\n",
       "    <tr>\n",
       "      <th>0</th>\n",
       "      <td>2019-04-07 11:45:00</td>\n",
       "      <td>8 апреля в горах Дагестана выше 2500 м  в гора...</td>\n",
       "    </tr>\n",
       "    <tr>\n",
       "      <th>1</th>\n",
       "      <td>2024-02-12 15:18:00</td>\n",
       "      <td>14-15 февраля в Сыктывкаре ожидается аномально...</td>\n",
       "    </tr>\n",
       "    <tr>\n",
       "      <th>2</th>\n",
       "      <td>2019-04-06 10:55:00</td>\n",
       "      <td>7-9 апреля в горных районах муниципального обр...</td>\n",
       "    </tr>\n",
       "    <tr>\n",
       "      <th>3</th>\n",
       "      <td>2024-02-12 15:18:00</td>\n",
       "      <td>14-15 февраля в Сыктывкаре ожидается аномально...</td>\n",
       "    </tr>\n",
       "    <tr>\n",
       "      <th>4</th>\n",
       "      <td>2019-04-06 09:30:00</td>\n",
       "      <td>7 апреля в горах Дагестана  выше 2500 м   7-9 ...</td>\n",
       "    </tr>\n",
       "  </tbody>\n",
       "</table>\n",
       "</div>"
      ],
      "text/plain": [
       "                 date                                            weather\n",
       "0 2019-04-07 11:45:00  8 апреля в горах Дагестана выше 2500 м  в гора...\n",
       "1 2024-02-12 15:18:00  14-15 февраля в Сыктывкаре ожидается аномально...\n",
       "2 2019-04-06 10:55:00  7-9 апреля в горных районах муниципального обр...\n",
       "3 2024-02-12 15:18:00  14-15 февраля в Сыктывкаре ожидается аномально...\n",
       "4 2019-04-06 09:30:00  7 апреля в горах Дагестана  выше 2500 м   7-9 ..."
      ]
     },
     "execution_count": 197,
     "metadata": {},
     "output_type": "execute_result"
    }
   ],
   "source": [
    "df = pd.DataFrame(weather)\n",
    "df.head()"
   ]
  },
  {
   "cell_type": "markdown",
   "metadata": {},
   "source": [
    "## Извлечение названий регионов"
   ]
  },
  {
   "cell_type": "code",
   "execution_count": 198,
   "metadata": {},
   "outputs": [],
   "source": [
    "mystem = pymystem3.Mystem()\n",
    "morphy = pymorphy3.MorphAnalyzer()"
   ]
  },
  {
   "cell_type": "code",
   "execution_count": 199,
   "metadata": {},
   "outputs": [],
   "source": [
    "def lemmatizeSentences(texts):\n",
    "    lol = lambda lst, sz: [lst[i:i+sz] for i in range(0, len(lst), sz)]\n",
    "    txtpart = lol(texts, 1000)  # Куски по 1000 предложений\n",
    "    res = []\n",
    "    # txtp = 1000 предложений\n",
    "    for txtp in txtpart:\n",
    "        # Объединяем 1000 предложений\n",
    "        alltexts = ' '.join([txt + ' br ' for txt in txtp])\n",
    "\n",
    "        words = mystem.lemmatize(alltexts)\n",
    "        doc = []\n",
    "        for txt in words:\n",
    "            if txt != '\\n' and txt.strip() != '':\n",
    "                if txt == 'br':\n",
    "                    res.append(\" \".join(doc))\n",
    "                    doc = []\n",
    "                else:\n",
    "                    doc.append(txt)\n",
    "    return res"
   ]
  },
  {
   "cell_type": "code",
   "execution_count": 200,
   "metadata": {},
   "outputs": [],
   "source": [
    "df['weather_l'] = lemmatizeSentences(df['weather'])"
   ]
  },
  {
   "cell_type": "code",
   "execution_count": 201,
   "metadata": {},
   "outputs": [
    {
     "data": {
      "text/html": [
       "<div>\n",
       "<style scoped>\n",
       "    .dataframe tbody tr th:only-of-type {\n",
       "        vertical-align: middle;\n",
       "    }\n",
       "\n",
       "    .dataframe tbody tr th {\n",
       "        vertical-align: top;\n",
       "    }\n",
       "\n",
       "    .dataframe thead th {\n",
       "        text-align: right;\n",
       "    }\n",
       "</style>\n",
       "<table border=\"1\" class=\"dataframe\">\n",
       "  <thead>\n",
       "    <tr style=\"text-align: right;\">\n",
       "      <th></th>\n",
       "      <th>date</th>\n",
       "      <th>weather</th>\n",
       "      <th>weather_l</th>\n",
       "    </tr>\n",
       "  </thead>\n",
       "  <tbody>\n",
       "    <tr>\n",
       "      <th>0</th>\n",
       "      <td>2019-04-07 11:45:00</td>\n",
       "      <td>8 апреля в горах Дагестана выше 2500 м  в гора...</td>\n",
       "      <td>8 апрель в гора дагестан высоко 2500 м в гора ...</td>\n",
       "    </tr>\n",
       "    <tr>\n",
       "      <th>1</th>\n",
       "      <td>2024-02-12 15:18:00</td>\n",
       "      <td>14-15 февраля в Сыктывкаре ожидается аномально...</td>\n",
       "      <td>14 - 15 февраль в сыктывкар ожидаться аномальн...</td>\n",
       "    </tr>\n",
       "    <tr>\n",
       "      <th>2</th>\n",
       "      <td>2019-04-06 10:55:00</td>\n",
       "      <td>7-9 апреля в горных районах муниципального обр...</td>\n",
       "      <td>7 - 9 апрель в горный район муниципальный обра...</td>\n",
       "    </tr>\n",
       "    <tr>\n",
       "      <th>3</th>\n",
       "      <td>2024-02-12 15:18:00</td>\n",
       "      <td>14-15 февраля в Сыктывкаре ожидается аномально...</td>\n",
       "      <td>14 - 15 февраль в сыктывкар ожидаться аномальн...</td>\n",
       "    </tr>\n",
       "    <tr>\n",
       "      <th>4</th>\n",
       "      <td>2019-04-06 09:30:00</td>\n",
       "      <td>7 апреля в горах Дагестана  выше 2500 м   7-9 ...</td>\n",
       "      <td>7 апрель в гора дагестан высоко 2500 м 7 - 9 а...</td>\n",
       "    </tr>\n",
       "  </tbody>\n",
       "</table>\n",
       "</div>"
      ],
      "text/plain": [
       "                 date                                            weather  \\\n",
       "0 2019-04-07 11:45:00  8 апреля в горах Дагестана выше 2500 м  в гора...   \n",
       "1 2024-02-12 15:18:00  14-15 февраля в Сыктывкаре ожидается аномально...   \n",
       "2 2019-04-06 10:55:00  7-9 апреля в горных районах муниципального обр...   \n",
       "3 2024-02-12 15:18:00  14-15 февраля в Сыктывкаре ожидается аномально...   \n",
       "4 2019-04-06 09:30:00  7 апреля в горах Дагестана  выше 2500 м   7-9 ...   \n",
       "\n",
       "                                           weather_l  \n",
       "0  8 апрель в гора дагестан высоко 2500 м в гора ...  \n",
       "1  14 - 15 февраль в сыктывкар ожидаться аномальн...  \n",
       "2  7 - 9 апрель в горный район муниципальный обра...  \n",
       "3  14 - 15 февраль в сыктывкар ожидаться аномальн...  \n",
       "4  7 апрель в гора дагестан высоко 2500 м 7 - 9 а...  "
      ]
     },
     "execution_count": 201,
     "metadata": {},
     "output_type": "execute_result"
    }
   ],
   "source": [
    "df.head()"
   ]
  },
  {
   "cell_type": "code",
   "execution_count": 202,
   "metadata": {},
   "outputs": [],
   "source": [
    "df_towns = pd.read_csv('data/towns.csv')"
   ]
  },
  {
   "cell_type": "code",
   "execution_count": 203,
   "metadata": {},
   "outputs": [
    {
     "data": {
      "text/html": [
       "<div>\n",
       "<style scoped>\n",
       "    .dataframe tbody tr th:only-of-type {\n",
       "        vertical-align: middle;\n",
       "    }\n",
       "\n",
       "    .dataframe tbody tr th {\n",
       "        vertical-align: top;\n",
       "    }\n",
       "\n",
       "    .dataframe thead th {\n",
       "        text-align: right;\n",
       "    }\n",
       "</style>\n",
       "<table border=\"1\" class=\"dataframe\">\n",
       "  <thead>\n",
       "    <tr style=\"text-align: right;\">\n",
       "      <th></th>\n",
       "      <th>city</th>\n",
       "      <th>population</th>\n",
       "      <th>lat</th>\n",
       "      <th>lon</th>\n",
       "      <th>region_name</th>\n",
       "      <th>region_name_ao</th>\n",
       "      <th>region_iso_code</th>\n",
       "      <th>federal_district</th>\n",
       "      <th>okato</th>\n",
       "      <th>oktmo</th>\n",
       "      <th>kladr_id</th>\n",
       "      <th>fias_id</th>\n",
       "      <th>place_id</th>\n",
       "    </tr>\n",
       "  </thead>\n",
       "  <tbody>\n",
       "    <tr>\n",
       "      <th>0</th>\n",
       "      <td>Алейск</td>\n",
       "      <td>29.0</td>\n",
       "      <td>52.492251</td>\n",
       "      <td>82.779361</td>\n",
       "      <td>Алтайский край</td>\n",
       "      <td>NaN</td>\n",
       "      <td>RU-ALT</td>\n",
       "      <td>Сибирский</td>\n",
       "      <td>1403000000</td>\n",
       "      <td>1703000001</td>\n",
       "      <td>2200000200000</td>\n",
       "      <td>ae716080-f27b-40b6-a555-cf8b518e849e</td>\n",
       "      <td>257210632.0</td>\n",
       "    </tr>\n",
       "    <tr>\n",
       "      <th>1</th>\n",
       "      <td>Барнаул</td>\n",
       "      <td>632.4</td>\n",
       "      <td>53.347997</td>\n",
       "      <td>83.779806</td>\n",
       "      <td>Алтайский край</td>\n",
       "      <td>NaN</td>\n",
       "      <td>RU-ALT</td>\n",
       "      <td>Сибирский</td>\n",
       "      <td>1401000000</td>\n",
       "      <td>1701000001</td>\n",
       "      <td>2200000100000</td>\n",
       "      <td>d13945a8-7017-46ab-b1e6-ede1e89317ad</td>\n",
       "      <td>258390190.0</td>\n",
       "    </tr>\n",
       "    <tr>\n",
       "      <th>2</th>\n",
       "      <td>Белокуриха</td>\n",
       "      <td>15.2</td>\n",
       "      <td>51.996152</td>\n",
       "      <td>84.983960</td>\n",
       "      <td>Алтайский край</td>\n",
       "      <td>NaN</td>\n",
       "      <td>RU-ALT</td>\n",
       "      <td>Сибирский</td>\n",
       "      <td>1404000000</td>\n",
       "      <td>1704000001</td>\n",
       "      <td>2200000300000</td>\n",
       "      <td>e4edca96-9b86-4cac-8c7f-cc93d9ba4cd1</td>\n",
       "      <td>258169961.0</td>\n",
       "    </tr>\n",
       "    <tr>\n",
       "      <th>3</th>\n",
       "      <td>Бийск</td>\n",
       "      <td>199.5</td>\n",
       "      <td>52.539386</td>\n",
       "      <td>85.213845</td>\n",
       "      <td>Алтайский край</td>\n",
       "      <td>NaN</td>\n",
       "      <td>RU-ALT</td>\n",
       "      <td>Сибирский</td>\n",
       "      <td>1405000000</td>\n",
       "      <td>1705000001</td>\n",
       "      <td>2200000400000</td>\n",
       "      <td>52f876f6-cb1d-4f23-a22f-b692609fc1e0</td>\n",
       "      <td>258937159.0</td>\n",
       "    </tr>\n",
       "    <tr>\n",
       "      <th>4</th>\n",
       "      <td>Горняк</td>\n",
       "      <td>12.3</td>\n",
       "      <td>50.997962</td>\n",
       "      <td>81.464336</td>\n",
       "      <td>Алтайский край</td>\n",
       "      <td>NaN</td>\n",
       "      <td>RU-ALT</td>\n",
       "      <td>Сибирский</td>\n",
       "      <td>1225501000</td>\n",
       "      <td>1625101001</td>\n",
       "      <td>2202700100000</td>\n",
       "      <td>094b3627-2699-4782-8492-4d82aac71958</td>\n",
       "      <td>259062368.0</td>\n",
       "    </tr>\n",
       "  </tbody>\n",
       "</table>\n",
       "</div>"
      ],
      "text/plain": [
       "         city  population        lat        lon     region_name  \\\n",
       "0      Алейск        29.0  52.492251  82.779361  Алтайский край   \n",
       "1     Барнаул       632.4  53.347997  83.779806  Алтайский край   \n",
       "2  Белокуриха        15.2  51.996152  84.983960  Алтайский край   \n",
       "3       Бийск       199.5  52.539386  85.213845  Алтайский край   \n",
       "4      Горняк        12.3  50.997962  81.464336  Алтайский край   \n",
       "\n",
       "  region_name_ao region_iso_code federal_district       okato       oktmo  \\\n",
       "0            NaN          RU-ALT        Сибирский  1403000000  1703000001   \n",
       "1            NaN          RU-ALT        Сибирский  1401000000  1701000001   \n",
       "2            NaN          RU-ALT        Сибирский  1404000000  1704000001   \n",
       "3            NaN          RU-ALT        Сибирский  1405000000  1705000001   \n",
       "4            NaN          RU-ALT        Сибирский  1225501000  1625101001   \n",
       "\n",
       "        kladr_id                               fias_id     place_id  \n",
       "0  2200000200000  ae716080-f27b-40b6-a555-cf8b518e849e  257210632.0  \n",
       "1  2200000100000  d13945a8-7017-46ab-b1e6-ede1e89317ad  258390190.0  \n",
       "2  2200000300000  e4edca96-9b86-4cac-8c7f-cc93d9ba4cd1  258169961.0  \n",
       "3  2200000400000  52f876f6-cb1d-4f23-a22f-b692609fc1e0  258937159.0  \n",
       "4  2202700100000  094b3627-2699-4782-8492-4d82aac71958  259062368.0  "
      ]
     },
     "execution_count": 203,
     "metadata": {},
     "output_type": "execute_result"
    }
   ],
   "source": [
    "df_towns.head()"
   ]
  },
  {
   "cell_type": "code",
   "execution_count": 204,
   "metadata": {},
   "outputs": [
    {
     "data": {
      "text/html": [
       "<div>\n",
       "<style scoped>\n",
       "    .dataframe tbody tr th:only-of-type {\n",
       "        vertical-align: middle;\n",
       "    }\n",
       "\n",
       "    .dataframe tbody tr th {\n",
       "        vertical-align: top;\n",
       "    }\n",
       "\n",
       "    .dataframe thead th {\n",
       "        text-align: right;\n",
       "    }\n",
       "</style>\n",
       "<table border=\"1\" class=\"dataframe\">\n",
       "  <thead>\n",
       "    <tr style=\"text-align: right;\">\n",
       "      <th></th>\n",
       "      <th>region</th>\n",
       "    </tr>\n",
       "  </thead>\n",
       "  <tbody>\n",
       "    <tr>\n",
       "      <th>0</th>\n",
       "      <td>Алтайский край</td>\n",
       "    </tr>\n",
       "    <tr>\n",
       "      <th>1</th>\n",
       "      <td>Амурская область</td>\n",
       "    </tr>\n",
       "    <tr>\n",
       "      <th>2</th>\n",
       "      <td>Архангельская область</td>\n",
       "    </tr>\n",
       "    <tr>\n",
       "      <th>3</th>\n",
       "      <td>Астраханская область</td>\n",
       "    </tr>\n",
       "    <tr>\n",
       "      <th>4</th>\n",
       "      <td>Белгородская область</td>\n",
       "    </tr>\n",
       "  </tbody>\n",
       "</table>\n",
       "</div>"
      ],
      "text/plain": [
       "                  region\n",
       "0         Алтайский край\n",
       "1       Амурская область\n",
       "2  Архангельская область\n",
       "3   Астраханская область\n",
       "4   Белгородская область"
      ]
     },
     "execution_count": 204,
     "metadata": {},
     "output_type": "execute_result"
    }
   ],
   "source": [
    "df_regions = pd.read_csv('data/regions.csv')\n",
    "df_regions.head()"
   ]
  },
  {
   "cell_type": "code",
   "execution_count": 205,
   "metadata": {},
   "outputs": [],
   "source": [
    "class MyStemmer :\n",
    "    snowball_stemmer = SnowballStemmer(\"russian\")\n",
    "    def stem(self, s : str) -> str :\n",
    "        s = self.snowball_stemmer.stem(s)\n",
    "        if s[-2:] == \"ск\" :\n",
    "            s = s[:-2]\n",
    "        return s"
   ]
  },
  {
   "cell_type": "code",
   "execution_count": 206,
   "metadata": {},
   "outputs": [
    {
     "name": "stdout",
     "output_type": "stream",
     "text": [
      "чуваш чуваш\n"
     ]
    }
   ],
   "source": [
    "my_stemmer = MyStemmer()\n",
    "print(my_stemmer.stem(\"чувашский\"), my_stemmer.stem(\"чувашия\"))"
   ]
  },
  {
   "cell_type": "code",
   "execution_count": 207,
   "metadata": {},
   "outputs": [],
   "source": [
    "stop_words = [\"автономная\", \"автономный\", \"область\", \"округ\", \"край\", \"республика\"] "
   ]
  },
  {
   "cell_type": "code",
   "execution_count": 208,
   "metadata": {},
   "outputs": [],
   "source": [
    "def region_transform(s : str, stemmer) :\n",
    "    s = s.lower()\n",
    "    for w in stop_words :\n",
    "        s = s.replace(w, \"\")\n",
    "    return stemmer.stem(s.split()[0])"
   ]
  },
  {
   "cell_type": "code",
   "execution_count": 209,
   "metadata": {},
   "outputs": [],
   "source": [
    "snowball_stemmer = SnowballStemmer(\"russian\")"
   ]
  },
  {
   "cell_type": "code",
   "execution_count": 210,
   "metadata": {},
   "outputs": [
    {
     "data": {
      "text/html": [
       "<div>\n",
       "<style scoped>\n",
       "    .dataframe tbody tr th:only-of-type {\n",
       "        vertical-align: middle;\n",
       "    }\n",
       "\n",
       "    .dataframe tbody tr th {\n",
       "        vertical-align: top;\n",
       "    }\n",
       "\n",
       "    .dataframe thead th {\n",
       "        text-align: right;\n",
       "    }\n",
       "</style>\n",
       "<table border=\"1\" class=\"dataframe\">\n",
       "  <thead>\n",
       "    <tr style=\"text-align: right;\">\n",
       "      <th></th>\n",
       "      <th>region</th>\n",
       "      <th>region_stemmed</th>\n",
       "      <th>region_stemmed_full</th>\n",
       "    </tr>\n",
       "  </thead>\n",
       "  <tbody>\n",
       "    <tr>\n",
       "      <th>0</th>\n",
       "      <td>Алтайский край</td>\n",
       "      <td>алтайск</td>\n",
       "      <td>алтай</td>\n",
       "    </tr>\n",
       "    <tr>\n",
       "      <th>1</th>\n",
       "      <td>Амурская область</td>\n",
       "      <td>амурск</td>\n",
       "      <td>амур</td>\n",
       "    </tr>\n",
       "    <tr>\n",
       "      <th>2</th>\n",
       "      <td>Архангельская область</td>\n",
       "      <td>архангельск</td>\n",
       "      <td>архангель</td>\n",
       "    </tr>\n",
       "    <tr>\n",
       "      <th>3</th>\n",
       "      <td>Астраханская область</td>\n",
       "      <td>астраханск</td>\n",
       "      <td>астрахан</td>\n",
       "    </tr>\n",
       "    <tr>\n",
       "      <th>4</th>\n",
       "      <td>Белгородская область</td>\n",
       "      <td>белгородск</td>\n",
       "      <td>белгород</td>\n",
       "    </tr>\n",
       "  </tbody>\n",
       "</table>\n",
       "</div>"
      ],
      "text/plain": [
       "                  region region_stemmed region_stemmed_full\n",
       "0         Алтайский край        алтайск               алтай\n",
       "1       Амурская область         амурск                амур\n",
       "2  Архангельская область    архангельск           архангель\n",
       "3   Астраханская область     астраханск            астрахан\n",
       "4   Белгородская область     белгородск            белгород"
      ]
     },
     "execution_count": 210,
     "metadata": {},
     "output_type": "execute_result"
    }
   ],
   "source": [
    "df_regions['region_stemmed'] = df_regions['region'].map(lambda x : region_transform(x, snowball_stemmer))\n",
    "df_regions['region_stemmed_full'] = df_regions['region'].map(lambda x : region_transform(x, my_stemmer))\n",
    "df_regions.head()"
   ]
  },
  {
   "cell_type": "code",
   "execution_count": 212,
   "metadata": {},
   "outputs": [],
   "source": [
    "regions_dict = df_regions['region_stemmed'].to_dict()\n",
    "regions_dict_full = df_regions['region_stemmed_full'].to_dict()\n",
    "regions_dict = {v : k for k, v in regions_dict.items()}\n",
    "regions_dict_full = {v : k for k, v in regions_dict_full.items()}"
   ]
  },
  {
   "cell_type": "code",
   "execution_count": 213,
   "metadata": {},
   "outputs": [
    {
     "name": "stdout",
     "output_type": "stream",
     "text": [
      "чуваш : чуваш 0 \n",
      " чуваш : чукот 3 \n",
      " чуваш : чукотcк 3 \n",
      " чуваш : чукотк 4 \n",
      " карачаево-черкес : карачаево-черкес 0\n"
     ]
    }
   ],
   "source": [
    "stem = my_stemmer.stem\n",
    "\n",
    "print(stem(\"чувашская\"), \":\", stem(\"чувашия\"), textdistance.levenshtein(stem(\"чувашская\"), stem(\"чувашия\")), \"\\n\",\n",
    "    stem(\"чувашия\"), \":\", stem(\"чукотский\"), textdistance.levenshtein(stem(\"чувашия\"), stem(\"чукотский\")), \"\\n\",\n",
    "    stem(\"чувашский\"), \":\", stem(\"чукотcкий\"), textdistance.levenshtein(stem(\"чувашский\"), stem(\"чукотский\")), \"\\n\",\n",
    "    stem(\"чувашский\"), \":\", stem(\"чукотка\"),textdistance.levenshtein(stem(\"чувашский\"), stem(\"чукотка\")), \"\\n\",\n",
    "    stem(\"карачаево-черкесия\"), \":\", stem(\"карачаево-черкесская\"), textdistance.levenshtein(stem(\"карачаево-черкесия\"), stem(\"карачаево-черкесская\")))\n",
    "\n",
    "# print(textdistance.levenshtein(stem(\"чувашская\"), stem(\"чувашия\")), \n",
    "#       textdistance.levenshtein(stem(\"чувашия\"), stem(\"чукотский\")), \n",
    "#       textdistance.levenshtein(stem(\"чувашский\"), stem(\"чукотский\")),\n",
    "#       textdistance.levenshtein(stem(\"чувашский\"), stem(\"чукотка\")),\n",
    "#       textdistance.levenshtein(stem(\"карачево-черкесия\"), stem(\"карачаево-черкесская\")))"
   ]
  },
  {
   "cell_type": "code",
   "execution_count": null,
   "metadata": {},
   "outputs": [],
   "source": [
    "towns_dict = df_towns[['city', 'region_name']]\n",
    "towns_dict['city'] = towns_dict['city'].transform(lambda x : region_transform(x, snowball_stemmer))\n",
    "towns_dict['region_name'] = towns_dict['region_name'].map(lambda x : region_transform(x, snowball_stemmer))\n",
    "towns_dict.set_index('city', inplace=True)\n",
    "towns_dict = towns_dict.to_dict()['region_name']"
   ]
  },
  {
   "cell_type": "code",
   "execution_count": 215,
   "metadata": {},
   "outputs": [],
   "source": [
    "def region_match(s : str) -> list :\n",
    "    matched = set()\n",
    "    for w in s.split() :\n",
    "        stem = snowball_stemmer.stem(w)\n",
    "        stem_full = my_stemmer.stem(w)\n",
    "        if stem in regions_dict :\n",
    "            matched.add(regions_dict[stem])\n",
    "        elif stem_full in regions_dict_full :\n",
    "            matched.add(regions_dict_full[stem_full])\n",
    "        elif stem in towns_dict :\n",
    "            matched.add(regions_dict[towns_dict[stem]])\n",
    "    return matched\n",
    "        "
   ]
  },
  {
   "cell_type": "code",
   "execution_count": 216,
   "metadata": {},
   "outputs": [
    {
     "name": "stdout",
     "output_type": "stream",
     "text": [
      "до 15 декабрь 2023 год в омский область и на юг тюменский область сохраняться опасный явление :  аномально холодный погода со среднесуточный температура воздух низкий климатический норма на 10 ° и более .  13 декабрь 2023 год в омский область место сохраняться опасный явление :  сильный мороз с минимальный температура воздух  - 40 ° и низко .\n",
      "{73, 35} ['Тюменская область', 'Омская область']\n",
      "в период 12 - 13 декабрь в гора кабардино-балкария ,  карачаево-черкесия ,  северный осетия высоко 2500 м лавиноопасный .\n",
      "{18, 14, 55} ['Карачаево-Черкесская Республика', 'Кабардино-Балкарская Республика', 'Республика Северная Осетия – Алания']\n",
      "завтра в новосибирск солнечно ,  а в екатеринбург идти дождь\n",
      "{65, 34} ['Свердловская область', 'Новосибирская область']\n"
     ]
    }
   ],
   "source": [
    "forecast1 = df['weather_l'][771]\n",
    "forecast2 = df['weather_l'][773]\n",
    "forecast3 = \"\".join(mystem.lemmatize(\"Завтра в Новосибирске солнечно, а в Екатеринбурге идут дожди\"))\n",
    "forecast3 = lemmatizeSentences([\"Завтра в Новосибирске солнечно, а в Екатеринбурге идут дожди\"])[0]\n",
    "print(forecast1)\n",
    "matched = region_match(forecast1)\n",
    "print(matched, [df_regions['region'][i] for i in matched])\n",
    "print(forecast2)\n",
    "matched = region_match(forecast2)\n",
    "print(matched, [df_regions['region'][i] for i in matched])\n",
    "print(forecast3)\n",
    "matched = region_match(forecast3)\n",
    "print(matched, [df_regions['region'][i] for i in matched])"
   ]
  },
  {
   "cell_type": "code",
   "execution_count": null,
   "metadata": {},
   "outputs": [],
   "source": [
    "df['region_ids'] = [np.nan] * len(df)\n",
    "df['region_names'] = [np.nan] * len(df)\n",
    "df['region_ids'] = df['region_ids'].astype('object')\n",
    "df['region_names'] = df['region_names'].astype('object')\n",
    "for i in range(len(df)) :\n",
    "    matched = region_match(df['weather_l'][i])\n",
    "    df['region_ids'][i] = list(matched)\n",
    "    df['region_names'][i] = [df_regions['region'][j] for j in matched]"
   ]
  },
  {
   "cell_type": "code",
   "execution_count": 218,
   "metadata": {},
   "outputs": [
    {
     "data": {
      "text/html": [
       "<div>\n",
       "<style scoped>\n",
       "    .dataframe tbody tr th:only-of-type {\n",
       "        vertical-align: middle;\n",
       "    }\n",
       "\n",
       "    .dataframe tbody tr th {\n",
       "        vertical-align: top;\n",
       "    }\n",
       "\n",
       "    .dataframe thead th {\n",
       "        text-align: right;\n",
       "    }\n",
       "</style>\n",
       "<table border=\"1\" class=\"dataframe\">\n",
       "  <thead>\n",
       "    <tr style=\"text-align: right;\">\n",
       "      <th></th>\n",
       "      <th>date</th>\n",
       "      <th>weather</th>\n",
       "      <th>weather_l</th>\n",
       "      <th>region_ids</th>\n",
       "      <th>region_names</th>\n",
       "    </tr>\n",
       "  </thead>\n",
       "  <tbody>\n",
       "    <tr>\n",
       "      <th>0</th>\n",
       "      <td>2019-04-07 11:45:00</td>\n",
       "      <td>8 апреля в горах Дагестана выше 2500 м  в гора...</td>\n",
       "      <td>8 апрель в гора дагестан высоко 2500 м в гора ...</td>\n",
       "      <td>[43, 46]</td>\n",
       "      <td>[Республика Алтай, Республика Дагестан]</td>\n",
       "    </tr>\n",
       "    <tr>\n",
       "      <th>1</th>\n",
       "      <td>2024-02-12 15:18:00</td>\n",
       "      <td>14-15 февраля в Сыктывкаре ожидается аномально...</td>\n",
       "      <td>14 - 15 февраль в сыктывкар ожидаться аномальн...</td>\n",
       "      <td>[50]</td>\n",
       "      <td>[Республика Коми]</td>\n",
       "    </tr>\n",
       "    <tr>\n",
       "      <th>2</th>\n",
       "      <td>2019-04-06 10:55:00</td>\n",
       "      <td>7-9 апреля в горных районах муниципального обр...</td>\n",
       "      <td>7 - 9 апрель в горный район муниципальный обра...</td>\n",
       "      <td>[22]</td>\n",
       "      <td>[Краснодарский край]</td>\n",
       "    </tr>\n",
       "    <tr>\n",
       "      <th>3</th>\n",
       "      <td>2024-02-12 15:18:00</td>\n",
       "      <td>14-15 февраля в Сыктывкаре ожидается аномально...</td>\n",
       "      <td>14 - 15 февраль в сыктывкар ожидаться аномальн...</td>\n",
       "      <td>[50]</td>\n",
       "      <td>[Республика Коми]</td>\n",
       "    </tr>\n",
       "    <tr>\n",
       "      <th>4</th>\n",
       "      <td>2019-04-06 09:30:00</td>\n",
       "      <td>7 апреля в горах Дагестана  выше 2500 м   7-9 ...</td>\n",
       "      <td>7 апрель в гора дагестан высоко 2500 м 7 - 9 а...</td>\n",
       "      <td>[42, 78, 47, 46, 22]</td>\n",
       "      <td>[Республика Адыгея, Чеченская Республика, Респ...</td>\n",
       "    </tr>\n",
       "  </tbody>\n",
       "</table>\n",
       "</div>"
      ],
      "text/plain": [
       "                 date                                            weather  \\\n",
       "0 2019-04-07 11:45:00  8 апреля в горах Дагестана выше 2500 м  в гора...   \n",
       "1 2024-02-12 15:18:00  14-15 февраля в Сыктывкаре ожидается аномально...   \n",
       "2 2019-04-06 10:55:00  7-9 апреля в горных районах муниципального обр...   \n",
       "3 2024-02-12 15:18:00  14-15 февраля в Сыктывкаре ожидается аномально...   \n",
       "4 2019-04-06 09:30:00  7 апреля в горах Дагестана  выше 2500 м   7-9 ...   \n",
       "\n",
       "                                           weather_l            region_ids  \\\n",
       "0  8 апрель в гора дагестан высоко 2500 м в гора ...              [43, 46]   \n",
       "1  14 - 15 февраль в сыктывкар ожидаться аномальн...                  [50]   \n",
       "2  7 - 9 апрель в горный район муниципальный обра...                  [22]   \n",
       "3  14 - 15 февраль в сыктывкар ожидаться аномальн...                  [50]   \n",
       "4  7 апрель в гора дагестан высоко 2500 м 7 - 9 а...  [42, 78, 47, 46, 22]   \n",
       "\n",
       "                                        region_names  \n",
       "0            [Республика Алтай, Республика Дагестан]  \n",
       "1                                  [Республика Коми]  \n",
       "2                               [Краснодарский край]  \n",
       "3                                  [Республика Коми]  \n",
       "4  [Республика Адыгея, Чеченская Республика, Респ...  "
      ]
     },
     "execution_count": 218,
     "metadata": {},
     "output_type": "execute_result"
    }
   ],
   "source": [
    "df.head()"
   ]
  },
  {
   "cell_type": "code",
   "execution_count": 219,
   "metadata": {},
   "outputs": [],
   "source": [
    "df.to_csv('data/weather.csv')"
   ]
  }
 ],
 "metadata": {
  "kernelspec": {
   "display_name": "Python 3",
   "language": "python",
   "name": "python3"
  },
  "language_info": {
   "codemirror_mode": {
    "name": "ipython",
    "version": 3
   },
   "file_extension": ".py",
   "mimetype": "text/x-python",
   "name": "python",
   "nbconvert_exporter": "python",
   "pygments_lexer": "ipython3",
   "version": "3.11.2"
  }
 },
 "nbformat": 4,
 "nbformat_minor": 2
}
