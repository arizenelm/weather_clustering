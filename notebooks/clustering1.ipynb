{
 "cells": [
  {
   "cell_type": "code",
   "execution_count": 1,
   "metadata": {},
   "outputs": [],
   "source": [
    "import pandas as pd\n",
    "import numpy as np\n",
    "import scipy.stats as scs\n",
    "import seaborn as sns\n",
    "from matplotlib import pyplot as plt\n",
    "from itertools import product\n",
    "\n",
    "import scipy.spatial\n",
    "\n",
    "import pyclustering\n",
    "from pyclustering.cluster.kmeans import kmeans as pyKMeans\n",
    "from pyclustering.utils.metric import distance_metric, type_metric\n",
    "from pyclustering.cluster.center_initializer import kmeans_plusplus_initializer\n",
    "from pyclustering.cluster.encoder import type_encoding\n",
    "from pyclustering.cluster.encoder import cluster_encoder\n",
    "\n",
    "from sklearn import preprocessing\n",
    "from sklearn.cluster import KMeans\n",
    "from sklearn.cluster import DBSCAN\n",
    "from sklearn.metrics import silhouette_score\n",
    "\n",
    "\n",
    "import clustering_utils"
   ]
  },
  {
   "cell_type": "code",
   "execution_count": 2,
   "metadata": {},
   "outputs": [],
   "source": [
    "df_weather = pd.read_csv('data/weather.csv', index_col=0)\n",
    "df_region_ids = pd.read_csv('data/regions.csv')"
   ]
  },
  {
   "cell_type": "code",
   "execution_count": 3,
   "metadata": {},
   "outputs": [
    {
     "data": {
      "text/html": [
       "<div>\n",
       "<style scoped>\n",
       "    .dataframe tbody tr th:only-of-type {\n",
       "        vertical-align: middle;\n",
       "    }\n",
       "\n",
       "    .dataframe tbody tr th {\n",
       "        vertical-align: top;\n",
       "    }\n",
       "\n",
       "    .dataframe thead th {\n",
       "        text-align: right;\n",
       "    }\n",
       "</style>\n",
       "<table border=\"1\" class=\"dataframe\">\n",
       "  <thead>\n",
       "    <tr style=\"text-align: right;\">\n",
       "      <th></th>\n",
       "      <th>date</th>\n",
       "      <th>weather</th>\n",
       "      <th>weather_l</th>\n",
       "      <th>region_ids</th>\n",
       "      <th>region_names</th>\n",
       "      <th>conditions_ids</th>\n",
       "      <th>conditions</th>\n",
       "    </tr>\n",
       "  </thead>\n",
       "  <tbody>\n",
       "    <tr>\n",
       "      <th>0</th>\n",
       "      <td>2019-04-07 11:45:00</td>\n",
       "      <td>8 апреля в горах Дагестана выше 2500 м  в гора...</td>\n",
       "      <td>8 апрель в гора дагестан высоко 2500 м в гора ...</td>\n",
       "      <td>[43, 46]</td>\n",
       "      <td>['Республика Алтай', 'Республика Дагестан']</td>\n",
       "      <td>[6]</td>\n",
       "      <td>['лавины']</td>\n",
       "    </tr>\n",
       "    <tr>\n",
       "      <th>1</th>\n",
       "      <td>2024-02-12 15:18:00</td>\n",
       "      <td>14-15 февраля в Сыктывкаре ожидается аномально...</td>\n",
       "      <td>14 - 15 февраль в сыктывкар ожидаться аномальн...</td>\n",
       "      <td>[50]</td>\n",
       "      <td>['Республика Коми']</td>\n",
       "      <td>[]</td>\n",
       "      <td>[]</td>\n",
       "    </tr>\n",
       "    <tr>\n",
       "      <th>2</th>\n",
       "      <td>2019-04-06 10:55:00</td>\n",
       "      <td>7-9 апреля в горных районах муниципального обр...</td>\n",
       "      <td>7 - 9 апрель в горный район муниципальный обра...</td>\n",
       "      <td>[22]</td>\n",
       "      <td>['Краснодарский край']</td>\n",
       "      <td>[6]</td>\n",
       "      <td>['лавины']</td>\n",
       "    </tr>\n",
       "    <tr>\n",
       "      <th>3</th>\n",
       "      <td>2024-02-12 15:18:00</td>\n",
       "      <td>14-15 февраля в Сыктывкаре ожидается аномально...</td>\n",
       "      <td>14 - 15 февраль в сыктывкар ожидаться аномальн...</td>\n",
       "      <td>[50]</td>\n",
       "      <td>['Республика Коми']</td>\n",
       "      <td>[]</td>\n",
       "      <td>[]</td>\n",
       "    </tr>\n",
       "    <tr>\n",
       "      <th>4</th>\n",
       "      <td>2019-04-06 09:30:00</td>\n",
       "      <td>7 апреля в горах Дагестана  выше 2500 м   7-9 ...</td>\n",
       "      <td>7 апрель в гора дагестан высоко 2500 м 7 - 9 а...</td>\n",
       "      <td>[42, 77, 46, 47, 22]</td>\n",
       "      <td>['Республика Адыгея', 'Чеченская Республика', ...</td>\n",
       "      <td>[6]</td>\n",
       "      <td>['лавины']</td>\n",
       "    </tr>\n",
       "  </tbody>\n",
       "</table>\n",
       "</div>"
      ],
      "text/plain": [
       "                  date                                            weather  \\\n",
       "0  2019-04-07 11:45:00  8 апреля в горах Дагестана выше 2500 м  в гора...   \n",
       "1  2024-02-12 15:18:00  14-15 февраля в Сыктывкаре ожидается аномально...   \n",
       "2  2019-04-06 10:55:00  7-9 апреля в горных районах муниципального обр...   \n",
       "3  2024-02-12 15:18:00  14-15 февраля в Сыктывкаре ожидается аномально...   \n",
       "4  2019-04-06 09:30:00  7 апреля в горах Дагестана  выше 2500 м   7-9 ...   \n",
       "\n",
       "                                           weather_l            region_ids  \\\n",
       "0  8 апрель в гора дагестан высоко 2500 м в гора ...              [43, 46]   \n",
       "1  14 - 15 февраль в сыктывкар ожидаться аномальн...                  [50]   \n",
       "2  7 - 9 апрель в горный район муниципальный обра...                  [22]   \n",
       "3  14 - 15 февраль в сыктывкар ожидаться аномальн...                  [50]   \n",
       "4  7 апрель в гора дагестан высоко 2500 м 7 - 9 а...  [42, 77, 46, 47, 22]   \n",
       "\n",
       "                                        region_names conditions_ids  \\\n",
       "0        ['Республика Алтай', 'Республика Дагестан']            [6]   \n",
       "1                                ['Республика Коми']             []   \n",
       "2                             ['Краснодарский край']            [6]   \n",
       "3                                ['Республика Коми']             []   \n",
       "4  ['Республика Адыгея', 'Чеченская Республика', ...            [6]   \n",
       "\n",
       "   conditions  \n",
       "0  ['лавины']  \n",
       "1          []  \n",
       "2  ['лавины']  \n",
       "3          []  \n",
       "4  ['лавины']  "
      ]
     },
     "execution_count": 3,
     "metadata": {},
     "output_type": "execute_result"
    }
   ],
   "source": [
    "df_weather.head()"
   ]
  },
  {
   "cell_type": "code",
   "execution_count": 4,
   "metadata": {},
   "outputs": [],
   "source": [
    "from ast import literal_eval"
   ]
  },
  {
   "cell_type": "code",
   "execution_count": 5,
   "metadata": {},
   "outputs": [
    {
     "data": {
      "text/html": [
       "<div>\n",
       "<style scoped>\n",
       "    .dataframe tbody tr th:only-of-type {\n",
       "        vertical-align: middle;\n",
       "    }\n",
       "\n",
       "    .dataframe tbody tr th {\n",
       "        vertical-align: top;\n",
       "    }\n",
       "\n",
       "    .dataframe thead th {\n",
       "        text-align: right;\n",
       "    }\n",
       "</style>\n",
       "<table border=\"1\" class=\"dataframe\">\n",
       "  <thead>\n",
       "    <tr style=\"text-align: right;\">\n",
       "      <th></th>\n",
       "      <th>date</th>\n",
       "      <th>region_ids</th>\n",
       "      <th>conditions_ids</th>\n",
       "    </tr>\n",
       "  </thead>\n",
       "  <tbody>\n",
       "    <tr>\n",
       "      <th>0</th>\n",
       "      <td>2019-04-07 11:45:00</td>\n",
       "      <td>[43, 46]</td>\n",
       "      <td>[6]</td>\n",
       "    </tr>\n",
       "    <tr>\n",
       "      <th>1</th>\n",
       "      <td>2024-02-12 15:18:00</td>\n",
       "      <td>[50]</td>\n",
       "      <td>[]</td>\n",
       "    </tr>\n",
       "    <tr>\n",
       "      <th>2</th>\n",
       "      <td>2019-04-06 10:55:00</td>\n",
       "      <td>[22]</td>\n",
       "      <td>[6]</td>\n",
       "    </tr>\n",
       "    <tr>\n",
       "      <th>3</th>\n",
       "      <td>2024-02-12 15:18:00</td>\n",
       "      <td>[50]</td>\n",
       "      <td>[]</td>\n",
       "    </tr>\n",
       "    <tr>\n",
       "      <th>4</th>\n",
       "      <td>2019-04-06 09:30:00</td>\n",
       "      <td>[42, 77, 46, 47, 22]</td>\n",
       "      <td>[6]</td>\n",
       "    </tr>\n",
       "  </tbody>\n",
       "</table>\n",
       "</div>"
      ],
      "text/plain": [
       "                 date            region_ids conditions_ids\n",
       "0 2019-04-07 11:45:00              [43, 46]            [6]\n",
       "1 2024-02-12 15:18:00                  [50]             []\n",
       "2 2019-04-06 10:55:00                  [22]            [6]\n",
       "3 2024-02-12 15:18:00                  [50]             []\n",
       "4 2019-04-06 09:30:00  [42, 77, 46, 47, 22]            [6]"
      ]
     },
     "execution_count": 5,
     "metadata": {},
     "output_type": "execute_result"
    }
   ],
   "source": [
    "df_weather = df_weather[['date', 'region_ids', 'conditions_ids']]\n",
    "df_weather['date'] = pd.to_datetime(df_weather['date'])\n",
    "df_weather['region_ids'] = df_weather['region_ids'].apply(literal_eval)\n",
    "df_weather['conditions_ids'] = df_weather['conditions_ids'].apply(literal_eval)\n",
    "df_weather.head()"
   ]
  },
  {
   "cell_type": "code",
   "execution_count": 6,
   "metadata": {},
   "outputs": [],
   "source": [
    "df_weather = df_weather[df_weather['conditions_ids'].apply(lambda x : len(x) > 0)]"
   ]
  },
  {
   "cell_type": "code",
   "execution_count": 7,
   "metadata": {},
   "outputs": [
    {
     "data": {
      "text/html": [
       "<div>\n",
       "<style scoped>\n",
       "    .dataframe tbody tr th:only-of-type {\n",
       "        vertical-align: middle;\n",
       "    }\n",
       "\n",
       "    .dataframe tbody tr th {\n",
       "        vertical-align: top;\n",
       "    }\n",
       "\n",
       "    .dataframe thead th {\n",
       "        text-align: right;\n",
       "    }\n",
       "</style>\n",
       "<table border=\"1\" class=\"dataframe\">\n",
       "  <thead>\n",
       "    <tr style=\"text-align: right;\">\n",
       "      <th></th>\n",
       "      <th>date</th>\n",
       "      <th>region_ids</th>\n",
       "      <th>conditions_ids</th>\n",
       "    </tr>\n",
       "  </thead>\n",
       "  <tbody>\n",
       "    <tr>\n",
       "      <th>0</th>\n",
       "      <td>2019-04-07 11:45:00</td>\n",
       "      <td>[43, 46]</td>\n",
       "      <td>[6]</td>\n",
       "    </tr>\n",
       "    <tr>\n",
       "      <th>2</th>\n",
       "      <td>2019-04-06 10:55:00</td>\n",
       "      <td>[22]</td>\n",
       "      <td>[6]</td>\n",
       "    </tr>\n",
       "    <tr>\n",
       "      <th>4</th>\n",
       "      <td>2019-04-06 09:30:00</td>\n",
       "      <td>[42, 77, 46, 47, 22]</td>\n",
       "      <td>[6]</td>\n",
       "    </tr>\n",
       "    <tr>\n",
       "      <th>5</th>\n",
       "      <td>2024-02-12 14:25:00</td>\n",
       "      <td>[61]</td>\n",
       "      <td>[10, 5]</td>\n",
       "    </tr>\n",
       "    <tr>\n",
       "      <th>6</th>\n",
       "      <td>2019-04-05 13:03:00</td>\n",
       "      <td>[22]</td>\n",
       "      <td>[7]</td>\n",
       "    </tr>\n",
       "  </tbody>\n",
       "</table>\n",
       "</div>"
      ],
      "text/plain": [
       "                 date            region_ids conditions_ids\n",
       "0 2019-04-07 11:45:00              [43, 46]            [6]\n",
       "2 2019-04-06 10:55:00                  [22]            [6]\n",
       "4 2019-04-06 09:30:00  [42, 77, 46, 47, 22]            [6]\n",
       "5 2024-02-12 14:25:00                  [61]        [10, 5]\n",
       "6 2019-04-05 13:03:00                  [22]            [7]"
      ]
     },
     "execution_count": 7,
     "metadata": {},
     "output_type": "execute_result"
    }
   ],
   "source": [
    "df_weather.head()"
   ]
  },
  {
   "cell_type": "code",
   "execution_count": 8,
   "metadata": {},
   "outputs": [
    {
     "data": {
      "text/html": [
       "<div>\n",
       "<style scoped>\n",
       "    .dataframe tbody tr th:only-of-type {\n",
       "        vertical-align: middle;\n",
       "    }\n",
       "\n",
       "    .dataframe tbody tr th {\n",
       "        vertical-align: top;\n",
       "    }\n",
       "\n",
       "    .dataframe thead th {\n",
       "        text-align: right;\n",
       "    }\n",
       "</style>\n",
       "<table border=\"1\" class=\"dataframe\">\n",
       "  <thead>\n",
       "    <tr style=\"text-align: right;\">\n",
       "      <th></th>\n",
       "      <th>region_ids</th>\n",
       "      <th>conditions_ids</th>\n",
       "      <th>month</th>\n",
       "    </tr>\n",
       "  </thead>\n",
       "  <tbody>\n",
       "    <tr>\n",
       "      <th>0</th>\n",
       "      <td>[43, 46]</td>\n",
       "      <td>[6]</td>\n",
       "      <td>4</td>\n",
       "    </tr>\n",
       "    <tr>\n",
       "      <th>2</th>\n",
       "      <td>[22]</td>\n",
       "      <td>[6]</td>\n",
       "      <td>4</td>\n",
       "    </tr>\n",
       "    <tr>\n",
       "      <th>4</th>\n",
       "      <td>[42, 77, 46, 47, 22]</td>\n",
       "      <td>[6]</td>\n",
       "      <td>4</td>\n",
       "    </tr>\n",
       "    <tr>\n",
       "      <th>5</th>\n",
       "      <td>[61]</td>\n",
       "      <td>[10, 5]</td>\n",
       "      <td>2</td>\n",
       "    </tr>\n",
       "    <tr>\n",
       "      <th>6</th>\n",
       "      <td>[22]</td>\n",
       "      <td>[7]</td>\n",
       "      <td>4</td>\n",
       "    </tr>\n",
       "  </tbody>\n",
       "</table>\n",
       "</div>"
      ],
      "text/plain": [
       "             region_ids conditions_ids  month\n",
       "0              [43, 46]            [6]      4\n",
       "2                  [22]            [6]      4\n",
       "4  [42, 77, 46, 47, 22]            [6]      4\n",
       "5                  [61]        [10, 5]      2\n",
       "6                  [22]            [7]      4"
      ]
     },
     "execution_count": 8,
     "metadata": {},
     "output_type": "execute_result"
    }
   ],
   "source": [
    "df_weather['month'] = df_weather['date'].dt.month\n",
    "df_weather.drop('date', axis=1, inplace=True)\n",
    "df_weather.head()"
   ]
  },
  {
   "cell_type": "code",
   "execution_count": 9,
   "metadata": {},
   "outputs": [],
   "source": [
    "df_weather = df_weather.explode('region_ids', ignore_index=True)\n",
    "df_weather = df_weather.explode('conditions_ids', ignore_index=True)"
   ]
  },
  {
   "cell_type": "code",
   "execution_count": 10,
   "metadata": {},
   "outputs": [
    {
     "name": "stdout",
     "output_type": "stream",
     "text": [
      "38264\n",
      "37930\n"
     ]
    },
    {
     "data": {
      "text/html": [
       "<div>\n",
       "<style scoped>\n",
       "    .dataframe tbody tr th:only-of-type {\n",
       "        vertical-align: middle;\n",
       "    }\n",
       "\n",
       "    .dataframe tbody tr th {\n",
       "        vertical-align: top;\n",
       "    }\n",
       "\n",
       "    .dataframe thead th {\n",
       "        text-align: right;\n",
       "    }\n",
       "</style>\n",
       "<table border=\"1\" class=\"dataframe\">\n",
       "  <thead>\n",
       "    <tr style=\"text-align: right;\">\n",
       "      <th></th>\n",
       "      <th>region_ids</th>\n",
       "      <th>conditions_ids</th>\n",
       "      <th>month</th>\n",
       "    </tr>\n",
       "  </thead>\n",
       "  <tbody>\n",
       "    <tr>\n",
       "      <th>0</th>\n",
       "      <td>43</td>\n",
       "      <td>6</td>\n",
       "      <td>4</td>\n",
       "    </tr>\n",
       "    <tr>\n",
       "      <th>1</th>\n",
       "      <td>46</td>\n",
       "      <td>6</td>\n",
       "      <td>4</td>\n",
       "    </tr>\n",
       "    <tr>\n",
       "      <th>2</th>\n",
       "      <td>22</td>\n",
       "      <td>6</td>\n",
       "      <td>4</td>\n",
       "    </tr>\n",
       "    <tr>\n",
       "      <th>3</th>\n",
       "      <td>42</td>\n",
       "      <td>6</td>\n",
       "      <td>4</td>\n",
       "    </tr>\n",
       "    <tr>\n",
       "      <th>4</th>\n",
       "      <td>77</td>\n",
       "      <td>6</td>\n",
       "      <td>4</td>\n",
       "    </tr>\n",
       "  </tbody>\n",
       "</table>\n",
       "</div>"
      ],
      "text/plain": [
       "  region_ids conditions_ids  month\n",
       "0         43              6      4\n",
       "1         46              6      4\n",
       "2         22              6      4\n",
       "3         42              6      4\n",
       "4         77              6      4"
      ]
     },
     "execution_count": 10,
     "metadata": {},
     "output_type": "execute_result"
    }
   ],
   "source": [
    "print(len(df_weather))\n",
    "df_weather.dropna(inplace=True)\n",
    "print(len(df_weather))\n",
    "df_weather.head()"
   ]
  },
  {
   "cell_type": "code",
   "execution_count": 14,
   "metadata": {},
   "outputs": [
    {
     "data": {
      "text/plain": [
       "0\n",
       "1                                ветер\n",
       "2                         дожди, ливни\n",
       "3                                гроза\n",
       "4                                 град\n",
       "5             снегопад, снежный покров\n",
       "6                               лавины\n",
       "7                            заморозки\n",
       "8                               метель\n",
       "9     паводки, подтопления, наводнения\n",
       "10                   гололед, изморозь\n",
       "11                                жара\n",
       "12                               мороз\n",
       "13                                сель\n",
       "14           туман, снижение видимости\n",
       "15                              ураган\n",
       "16                               смерч\n",
       "17                        пылевая буря\n",
       "18            вулканическая активность\n",
       "Name: 1, dtype: object"
      ]
     },
     "execution_count": 14,
     "metadata": {},
     "output_type": "execute_result"
    }
   ],
   "source": [
    "weather_ids = pd.read_csv('data/weather_ids.csv', index_col=0, header=None).squeeze()\n",
    "weather_ids"
   ]
  },
  {
   "cell_type": "code",
   "execution_count": 15,
   "metadata": {},
   "outputs": [],
   "source": [
    "cond_count = len(weather_ids)\n",
    "month_cond_labels = [str(i) + '_' + str(j) for (i, j) in product(range(1, 13), range(1, cond_count + 1))]"
   ]
  },
  {
   "cell_type": "code",
   "execution_count": 16,
   "metadata": {},
   "outputs": [],
   "source": [
    "df_regions1 = pd.DataFrame(columns=['region_id'] + month_cond_labels)"
   ]
  },
  {
   "cell_type": "code",
   "execution_count": 17,
   "metadata": {},
   "outputs": [
    {
     "name": "stdout",
     "output_type": "stream",
     "text": [
      "216\n"
     ]
    },
    {
     "data": {
      "text/html": [
       "<div>\n",
       "<style scoped>\n",
       "    .dataframe tbody tr th:only-of-type {\n",
       "        vertical-align: middle;\n",
       "    }\n",
       "\n",
       "    .dataframe tbody tr th {\n",
       "        vertical-align: top;\n",
       "    }\n",
       "\n",
       "    .dataframe thead th {\n",
       "        text-align: right;\n",
       "    }\n",
       "</style>\n",
       "<table border=\"1\" class=\"dataframe\">\n",
       "  <thead>\n",
       "    <tr style=\"text-align: right;\">\n",
       "      <th></th>\n",
       "      <th>region_id</th>\n",
       "      <th>1_1</th>\n",
       "      <th>1_2</th>\n",
       "      <th>1_3</th>\n",
       "      <th>1_4</th>\n",
       "      <th>1_5</th>\n",
       "      <th>1_6</th>\n",
       "      <th>1_7</th>\n",
       "      <th>1_8</th>\n",
       "      <th>1_9</th>\n",
       "      <th>...</th>\n",
       "      <th>12_9</th>\n",
       "      <th>12_10</th>\n",
       "      <th>12_11</th>\n",
       "      <th>12_12</th>\n",
       "      <th>12_13</th>\n",
       "      <th>12_14</th>\n",
       "      <th>12_15</th>\n",
       "      <th>12_16</th>\n",
       "      <th>12_17</th>\n",
       "      <th>12_18</th>\n",
       "    </tr>\n",
       "  </thead>\n",
       "  <tbody>\n",
       "  </tbody>\n",
       "</table>\n",
       "<p>0 rows × 217 columns</p>\n",
       "</div>"
      ],
      "text/plain": [
       "Empty DataFrame\n",
       "Columns: [region_id, 1_1, 1_2, 1_3, 1_4, 1_5, 1_6, 1_7, 1_8, 1_9, 1_10, 1_11, 1_12, 1_13, 1_14, 1_15, 1_16, 1_17, 1_18, 2_1, 2_2, 2_3, 2_4, 2_5, 2_6, 2_7, 2_8, 2_9, 2_10, 2_11, 2_12, 2_13, 2_14, 2_15, 2_16, 2_17, 2_18, 3_1, 3_2, 3_3, 3_4, 3_5, 3_6, 3_7, 3_8, 3_9, 3_10, 3_11, 3_12, 3_13, 3_14, 3_15, 3_16, 3_17, 3_18, 4_1, 4_2, 4_3, 4_4, 4_5, 4_6, 4_7, 4_8, 4_9, 4_10, 4_11, 4_12, 4_13, 4_14, 4_15, 4_16, 4_17, 4_18, 5_1, 5_2, 5_3, 5_4, 5_5, 5_6, 5_7, 5_8, 5_9, 5_10, 5_11, 5_12, 5_13, 5_14, 5_15, 5_16, 5_17, 5_18, 6_1, 6_2, 6_3, 6_4, 6_5, 6_6, 6_7, 6_8, 6_9, ...]\n",
       "Index: []\n",
       "\n",
       "[0 rows x 217 columns]"
      ]
     },
     "execution_count": 17,
     "metadata": {},
     "output_type": "execute_result"
    }
   ],
   "source": [
    "print(cond_count * 12)\n",
    "df_regions1.head()"
   ]
  },
  {
   "cell_type": "code",
   "execution_count": 18,
   "metadata": {},
   "outputs": [],
   "source": [
    "regions_dict1 = {region : {s : 0 for s in month_cond_labels} for region in df_region_ids.index}"
   ]
  },
  {
   "cell_type": "code",
   "execution_count": 19,
   "metadata": {},
   "outputs": [
    {
     "data": {
      "text/plain": [
       "[1, 2, 3, 4, 5, 6, 7, 8, 9, 10, 11, 12, 13, 14, 15, 16, 17, 18]"
      ]
     },
     "execution_count": 19,
     "metadata": {},
     "output_type": "execute_result"
    }
   ],
   "source": [
    "sorted(df_weather['conditions_ids'].unique())"
   ]
  },
  {
   "cell_type": "code",
   "execution_count": 20,
   "metadata": {},
   "outputs": [],
   "source": [
    "for index, row in df_weather.iterrows() :\n",
    "    s = str(row['month']) + '_' + str(row['conditions_ids'])\n",
    "    regions_dict1[row['region_ids']][s] += 1"
   ]
  },
  {
   "cell_type": "code",
   "execution_count": 21,
   "metadata": {},
   "outputs": [],
   "source": [
    "df_regions1 = pd.DataFrame.from_dict(regions_dict1, orient='index')"
   ]
  },
  {
   "cell_type": "code",
   "execution_count": 22,
   "metadata": {},
   "outputs": [
    {
     "data": {
      "text/html": [
       "<div>\n",
       "<style scoped>\n",
       "    .dataframe tbody tr th:only-of-type {\n",
       "        vertical-align: middle;\n",
       "    }\n",
       "\n",
       "    .dataframe tbody tr th {\n",
       "        vertical-align: top;\n",
       "    }\n",
       "\n",
       "    .dataframe thead th {\n",
       "        text-align: right;\n",
       "    }\n",
       "</style>\n",
       "<table border=\"1\" class=\"dataframe\">\n",
       "  <thead>\n",
       "    <tr style=\"text-align: right;\">\n",
       "      <th></th>\n",
       "      <th>1_1</th>\n",
       "      <th>1_2</th>\n",
       "      <th>1_3</th>\n",
       "      <th>1_4</th>\n",
       "      <th>1_5</th>\n",
       "      <th>1_6</th>\n",
       "      <th>1_7</th>\n",
       "      <th>1_8</th>\n",
       "      <th>1_9</th>\n",
       "      <th>1_10</th>\n",
       "      <th>...</th>\n",
       "      <th>12_9</th>\n",
       "      <th>12_10</th>\n",
       "      <th>12_11</th>\n",
       "      <th>12_12</th>\n",
       "      <th>12_13</th>\n",
       "      <th>12_14</th>\n",
       "      <th>12_15</th>\n",
       "      <th>12_16</th>\n",
       "      <th>12_17</th>\n",
       "      <th>12_18</th>\n",
       "    </tr>\n",
       "  </thead>\n",
       "  <tbody>\n",
       "    <tr>\n",
       "      <th>0</th>\n",
       "      <td>18</td>\n",
       "      <td>3</td>\n",
       "      <td>0</td>\n",
       "      <td>0</td>\n",
       "      <td>18</td>\n",
       "      <td>0</td>\n",
       "      <td>3</td>\n",
       "      <td>18</td>\n",
       "      <td>0</td>\n",
       "      <td>17</td>\n",
       "      <td>...</td>\n",
       "      <td>0</td>\n",
       "      <td>26</td>\n",
       "      <td>0</td>\n",
       "      <td>0</td>\n",
       "      <td>0</td>\n",
       "      <td>0</td>\n",
       "      <td>0</td>\n",
       "      <td>0</td>\n",
       "      <td>0</td>\n",
       "      <td>0</td>\n",
       "    </tr>\n",
       "    <tr>\n",
       "      <th>1</th>\n",
       "      <td>0</td>\n",
       "      <td>0</td>\n",
       "      <td>0</td>\n",
       "      <td>0</td>\n",
       "      <td>0</td>\n",
       "      <td>0</td>\n",
       "      <td>0</td>\n",
       "      <td>0</td>\n",
       "      <td>0</td>\n",
       "      <td>6</td>\n",
       "      <td>...</td>\n",
       "      <td>0</td>\n",
       "      <td>1</td>\n",
       "      <td>0</td>\n",
       "      <td>0</td>\n",
       "      <td>0</td>\n",
       "      <td>0</td>\n",
       "      <td>0</td>\n",
       "      <td>0</td>\n",
       "      <td>0</td>\n",
       "      <td>0</td>\n",
       "    </tr>\n",
       "    <tr>\n",
       "      <th>2</th>\n",
       "      <td>2</td>\n",
       "      <td>0</td>\n",
       "      <td>0</td>\n",
       "      <td>0</td>\n",
       "      <td>2</td>\n",
       "      <td>0</td>\n",
       "      <td>0</td>\n",
       "      <td>2</td>\n",
       "      <td>0</td>\n",
       "      <td>0</td>\n",
       "      <td>...</td>\n",
       "      <td>0</td>\n",
       "      <td>1</td>\n",
       "      <td>0</td>\n",
       "      <td>5</td>\n",
       "      <td>0</td>\n",
       "      <td>0</td>\n",
       "      <td>0</td>\n",
       "      <td>0</td>\n",
       "      <td>0</td>\n",
       "      <td>0</td>\n",
       "    </tr>\n",
       "    <tr>\n",
       "      <th>3</th>\n",
       "      <td>0</td>\n",
       "      <td>0</td>\n",
       "      <td>0</td>\n",
       "      <td>0</td>\n",
       "      <td>0</td>\n",
       "      <td>0</td>\n",
       "      <td>0</td>\n",
       "      <td>0</td>\n",
       "      <td>0</td>\n",
       "      <td>0</td>\n",
       "      <td>...</td>\n",
       "      <td>0</td>\n",
       "      <td>2</td>\n",
       "      <td>0</td>\n",
       "      <td>0</td>\n",
       "      <td>0</td>\n",
       "      <td>0</td>\n",
       "      <td>0</td>\n",
       "      <td>0</td>\n",
       "      <td>0</td>\n",
       "      <td>0</td>\n",
       "    </tr>\n",
       "    <tr>\n",
       "      <th>4</th>\n",
       "      <td>2</td>\n",
       "      <td>0</td>\n",
       "      <td>0</td>\n",
       "      <td>0</td>\n",
       "      <td>3</td>\n",
       "      <td>0</td>\n",
       "      <td>0</td>\n",
       "      <td>2</td>\n",
       "      <td>0</td>\n",
       "      <td>2</td>\n",
       "      <td>...</td>\n",
       "      <td>0</td>\n",
       "      <td>3</td>\n",
       "      <td>0</td>\n",
       "      <td>0</td>\n",
       "      <td>0</td>\n",
       "      <td>0</td>\n",
       "      <td>0</td>\n",
       "      <td>0</td>\n",
       "      <td>0</td>\n",
       "      <td>0</td>\n",
       "    </tr>\n",
       "  </tbody>\n",
       "</table>\n",
       "<p>5 rows × 216 columns</p>\n",
       "</div>"
      ],
      "text/plain": [
       "   1_1  1_2  1_3  1_4  1_5  1_6  1_7  1_8  1_9  1_10  ...  12_9  12_10  12_11  \\\n",
       "0   18    3    0    0   18    0    3   18    0    17  ...     0     26      0   \n",
       "1    0    0    0    0    0    0    0    0    0     6  ...     0      1      0   \n",
       "2    2    0    0    0    2    0    0    2    0     0  ...     0      1      0   \n",
       "3    0    0    0    0    0    0    0    0    0     0  ...     0      2      0   \n",
       "4    2    0    0    0    3    0    0    2    0     2  ...     0      3      0   \n",
       "\n",
       "   12_12  12_13  12_14  12_15  12_16  12_17  12_18  \n",
       "0      0      0      0      0      0      0      0  \n",
       "1      0      0      0      0      0      0      0  \n",
       "2      5      0      0      0      0      0      0  \n",
       "3      0      0      0      0      0      0      0  \n",
       "4      0      0      0      0      0      0      0  \n",
       "\n",
       "[5 rows x 216 columns]"
      ]
     },
     "execution_count": 22,
     "metadata": {},
     "output_type": "execute_result"
    }
   ],
   "source": [
    "df_regions1.head()"
   ]
  },
  {
   "cell_type": "code",
   "execution_count": 23,
   "metadata": {},
   "outputs": [],
   "source": [
    "df_regions1 = df_regions1.astype(float)"
   ]
  },
  {
   "cell_type": "code",
   "execution_count": 24,
   "metadata": {},
   "outputs": [],
   "source": [
    "df_regions1.iloc[33] *= 0.3"
   ]
  },
  {
   "cell_type": "code",
   "execution_count": 25,
   "metadata": {},
   "outputs": [
    {
     "data": {
      "text/html": [
       "<div>\n",
       "<style scoped>\n",
       "    .dataframe tbody tr th:only-of-type {\n",
       "        vertical-align: middle;\n",
       "    }\n",
       "\n",
       "    .dataframe tbody tr th {\n",
       "        vertical-align: top;\n",
       "    }\n",
       "\n",
       "    .dataframe thead th {\n",
       "        text-align: right;\n",
       "    }\n",
       "</style>\n",
       "<table border=\"1\" class=\"dataframe\">\n",
       "  <thead>\n",
       "    <tr style=\"text-align: right;\">\n",
       "      <th></th>\n",
       "      <th>1_1</th>\n",
       "      <th>1_2</th>\n",
       "      <th>1_3</th>\n",
       "      <th>1_4</th>\n",
       "      <th>1_5</th>\n",
       "      <th>1_6</th>\n",
       "      <th>1_7</th>\n",
       "      <th>1_8</th>\n",
       "      <th>1_9</th>\n",
       "      <th>1_10</th>\n",
       "      <th>...</th>\n",
       "      <th>12_9</th>\n",
       "      <th>12_10</th>\n",
       "      <th>12_11</th>\n",
       "      <th>12_12</th>\n",
       "      <th>12_13</th>\n",
       "      <th>12_14</th>\n",
       "      <th>12_15</th>\n",
       "      <th>12_16</th>\n",
       "      <th>12_17</th>\n",
       "      <th>12_18</th>\n",
       "    </tr>\n",
       "  </thead>\n",
       "  <tbody>\n",
       "    <tr>\n",
       "      <th>0</th>\n",
       "      <td>18.0</td>\n",
       "      <td>3.0</td>\n",
       "      <td>0.0</td>\n",
       "      <td>0.0</td>\n",
       "      <td>18.0</td>\n",
       "      <td>0.0</td>\n",
       "      <td>3.0</td>\n",
       "      <td>18.0</td>\n",
       "      <td>0.0</td>\n",
       "      <td>17.0</td>\n",
       "      <td>...</td>\n",
       "      <td>0.0</td>\n",
       "      <td>26.0</td>\n",
       "      <td>0.0</td>\n",
       "      <td>0.0</td>\n",
       "      <td>0.0</td>\n",
       "      <td>0.0</td>\n",
       "      <td>0.0</td>\n",
       "      <td>0.0</td>\n",
       "      <td>0.0</td>\n",
       "      <td>0.0</td>\n",
       "    </tr>\n",
       "    <tr>\n",
       "      <th>1</th>\n",
       "      <td>0.0</td>\n",
       "      <td>0.0</td>\n",
       "      <td>0.0</td>\n",
       "      <td>0.0</td>\n",
       "      <td>0.0</td>\n",
       "      <td>0.0</td>\n",
       "      <td>0.0</td>\n",
       "      <td>0.0</td>\n",
       "      <td>0.0</td>\n",
       "      <td>6.0</td>\n",
       "      <td>...</td>\n",
       "      <td>0.0</td>\n",
       "      <td>1.0</td>\n",
       "      <td>0.0</td>\n",
       "      <td>0.0</td>\n",
       "      <td>0.0</td>\n",
       "      <td>0.0</td>\n",
       "      <td>0.0</td>\n",
       "      <td>0.0</td>\n",
       "      <td>0.0</td>\n",
       "      <td>0.0</td>\n",
       "    </tr>\n",
       "    <tr>\n",
       "      <th>2</th>\n",
       "      <td>2.0</td>\n",
       "      <td>0.0</td>\n",
       "      <td>0.0</td>\n",
       "      <td>0.0</td>\n",
       "      <td>2.0</td>\n",
       "      <td>0.0</td>\n",
       "      <td>0.0</td>\n",
       "      <td>2.0</td>\n",
       "      <td>0.0</td>\n",
       "      <td>0.0</td>\n",
       "      <td>...</td>\n",
       "      <td>0.0</td>\n",
       "      <td>1.0</td>\n",
       "      <td>0.0</td>\n",
       "      <td>5.0</td>\n",
       "      <td>0.0</td>\n",
       "      <td>0.0</td>\n",
       "      <td>0.0</td>\n",
       "      <td>0.0</td>\n",
       "      <td>0.0</td>\n",
       "      <td>0.0</td>\n",
       "    </tr>\n",
       "    <tr>\n",
       "      <th>3</th>\n",
       "      <td>0.0</td>\n",
       "      <td>0.0</td>\n",
       "      <td>0.0</td>\n",
       "      <td>0.0</td>\n",
       "      <td>0.0</td>\n",
       "      <td>0.0</td>\n",
       "      <td>0.0</td>\n",
       "      <td>0.0</td>\n",
       "      <td>0.0</td>\n",
       "      <td>0.0</td>\n",
       "      <td>...</td>\n",
       "      <td>0.0</td>\n",
       "      <td>2.0</td>\n",
       "      <td>0.0</td>\n",
       "      <td>0.0</td>\n",
       "      <td>0.0</td>\n",
       "      <td>0.0</td>\n",
       "      <td>0.0</td>\n",
       "      <td>0.0</td>\n",
       "      <td>0.0</td>\n",
       "      <td>0.0</td>\n",
       "    </tr>\n",
       "    <tr>\n",
       "      <th>4</th>\n",
       "      <td>2.0</td>\n",
       "      <td>0.0</td>\n",
       "      <td>0.0</td>\n",
       "      <td>0.0</td>\n",
       "      <td>3.0</td>\n",
       "      <td>0.0</td>\n",
       "      <td>0.0</td>\n",
       "      <td>2.0</td>\n",
       "      <td>0.0</td>\n",
       "      <td>2.0</td>\n",
       "      <td>...</td>\n",
       "      <td>0.0</td>\n",
       "      <td>3.0</td>\n",
       "      <td>0.0</td>\n",
       "      <td>0.0</td>\n",
       "      <td>0.0</td>\n",
       "      <td>0.0</td>\n",
       "      <td>0.0</td>\n",
       "      <td>0.0</td>\n",
       "      <td>0.0</td>\n",
       "      <td>0.0</td>\n",
       "    </tr>\n",
       "  </tbody>\n",
       "</table>\n",
       "<p>5 rows × 216 columns</p>\n",
       "</div>"
      ],
      "text/plain": [
       "    1_1  1_2  1_3  1_4   1_5  1_6  1_7   1_8  1_9  1_10  ...  12_9  12_10  \\\n",
       "0  18.0  3.0  0.0  0.0  18.0  0.0  3.0  18.0  0.0  17.0  ...   0.0   26.0   \n",
       "1   0.0  0.0  0.0  0.0   0.0  0.0  0.0   0.0  0.0   6.0  ...   0.0    1.0   \n",
       "2   2.0  0.0  0.0  0.0   2.0  0.0  0.0   2.0  0.0   0.0  ...   0.0    1.0   \n",
       "3   0.0  0.0  0.0  0.0   0.0  0.0  0.0   0.0  0.0   0.0  ...   0.0    2.0   \n",
       "4   2.0  0.0  0.0  0.0   3.0  0.0  0.0   2.0  0.0   2.0  ...   0.0    3.0   \n",
       "\n",
       "   12_11  12_12  12_13  12_14  12_15  12_16  12_17  12_18  \n",
       "0    0.0    0.0    0.0    0.0    0.0    0.0    0.0    0.0  \n",
       "1    0.0    0.0    0.0    0.0    0.0    0.0    0.0    0.0  \n",
       "2    0.0    5.0    0.0    0.0    0.0    0.0    0.0    0.0  \n",
       "3    0.0    0.0    0.0    0.0    0.0    0.0    0.0    0.0  \n",
       "4    0.0    0.0    0.0    0.0    0.0    0.0    0.0    0.0  \n",
       "\n",
       "[5 rows x 216 columns]"
      ]
     },
     "execution_count": 25,
     "metadata": {},
     "output_type": "execute_result"
    }
   ],
   "source": [
    "X = df_regions1.copy()\n",
    "X.head()"
   ]
  },
  {
   "cell_type": "code",
   "execution_count": 26,
   "metadata": {},
   "outputs": [],
   "source": [
    "N = len(df_regions1)\n",
    "d_mean = np.zeros(len(weather_ids))\n",
    "d_mean_m = np.zeros(len(weather_ids))\n",
    "for j in range(len(weather_ids)) :\n",
    "    d_temp = 0\n",
    "    d_temp_m = 0\n",
    "    for i1, i2 in product(range(N), range(N)) :\n",
    "        for m in range(12) :\n",
    "            d_temp += (df_regions1.iloc[i1, m * len(weather_ids) + j] - df_regions1.iloc[i2, m * len(weather_ids) + j])**2\n",
    "            d_temp_m += (df_regions1.iloc[i1, m * len(weather_ids) + j] - df_regions1.iloc[i2, m * len(weather_ids) + j])\n",
    "    d_mean[j] = ((d_temp / N**2) + 0.01)\n",
    "    d_mean_m[j] = ((d_temp_m / N**2) + 0.01)"
   ]
  },
  {
   "cell_type": "code",
   "execution_count": 27,
   "metadata": {},
   "outputs": [],
   "source": [
    "d_mean_full = np.zeros(len(weather_ids) * 12)\n",
    "d_mean_full_m = np.zeros(len(weather_ids) * 12)\n",
    "for j in range(len(weather_ids) * 12) :\n",
    "    d_temp = 0\n",
    "    d_temp_m = 0\n",
    "    for i1, i2, in product(range(N), range(N)) :\n",
    "        d_temp += (df_regions1.iloc[i1, j] - df_regions1.iloc[i2, j])**2\n",
    "        d_temp_m += (df_regions1.iloc[i1, j] - df_regions1.iloc[i2, j])\n",
    "    d_mean_full[j] = (d_temp / N**2) + 0.01\n",
    "    d_mean_full_m[j] = (d_temp_m / N**2) + 0.01"
   ]
  },
  {
   "cell_type": "code",
   "execution_count": 28,
   "metadata": {},
   "outputs": [],
   "source": [
    "w = np.array([(1.0) / (d_mean[i % (12)]) for i in range(12 * len(d_mean))])\n",
    "w_m = np.array([(1.0) / (d_mean_m[i % 12]) for i in range(12 * len(d_mean))])\n",
    "w /= np.sum(w)\n",
    "w_m /= np.sum(w_m)"
   ]
  },
  {
   "cell_type": "code",
   "execution_count": 29,
   "metadata": {},
   "outputs": [],
   "source": [
    "w_full = np.array([(1.0) / d for d in d_mean_full])\n",
    "w_full_m = np.array([(1.0) / d for d in d_mean_full_m])\n",
    "w_full /= np.sum(w_full)\n",
    "w_full_m /= np.sum(w_full_m)"
   ]
  },
  {
   "cell_type": "code",
   "execution_count": 30,
   "metadata": {},
   "outputs": [],
   "source": [
    "temp = [100, 100, 100, 100, 100, 1, 100, 2, 100, 100, 1, 1, 2, 100, 1, 1, 1, 1]\n",
    "w_custom = np.array([(1.0) / (temp[i % len(temp)]) for i in range(12 * len(d_mean))])\n",
    "w_custom /= np.sum(w_custom)"
   ]
  },
  {
   "cell_type": "code",
   "execution_count": 31,
   "metadata": {},
   "outputs": [
    {
     "data": {
      "text/plain": [
       "0\n",
       "1                                ветер\n",
       "2                         дожди, ливни\n",
       "3                                гроза\n",
       "4                                 град\n",
       "5             снегопад, снежный покров\n",
       "6                               лавины\n",
       "7                            заморозки\n",
       "8                               метель\n",
       "9     паводки, подтопления, наводнения\n",
       "10                   гололед, изморозь\n",
       "11                                жара\n",
       "12                               мороз\n",
       "13                                сель\n",
       "14           туман, снижение видимости\n",
       "15                              ураган\n",
       "16                               смерч\n",
       "17                        пылевая буря\n",
       "18            вулканическая активность\n",
       "Name: 1, dtype: object"
      ]
     },
     "execution_count": 31,
     "metadata": {},
     "output_type": "execute_result"
    }
   ],
   "source": [
    "weather_ids"
   ]
  },
  {
   "cell_type": "code",
   "execution_count": 32,
   "metadata": {},
   "outputs": [],
   "source": [
    "weights = w_custom"
   ]
  },
  {
   "cell_type": "code",
   "execution_count": 33,
   "metadata": {},
   "outputs": [],
   "source": [
    "euclidian_weightned_distance = lambda x, y : scipy.spatial.distance.euclidean(x, y, weights)"
   ]
  },
  {
   "cell_type": "code",
   "execution_count": 34,
   "metadata": {},
   "outputs": [],
   "source": [
    "manhattan_weightned_distance = lambda x, y : scipy.spatial.distance.cityblock(x, y, weights)"
   ]
  },
  {
   "cell_type": "code",
   "execution_count": 35,
   "metadata": {},
   "outputs": [],
   "source": [
    "cosine_weightned_distance = lambda x, y : scipy.spatial.distance.cosine(x, y, weights)"
   ]
  },
  {
   "cell_type": "code",
   "execution_count": 188,
   "metadata": {},
   "outputs": [],
   "source": [
    "#custom_distance = lambda x, y : scipy.spatial.distance.euclidean(x, y)\n",
    "custom_distance = cosine_weightned_distance"
   ]
  },
  {
   "cell_type": "code",
   "execution_count": 189,
   "metadata": {},
   "outputs": [
    {
     "data": {
      "image/png": "[encoded data removed]",
      "text/plain": [
       "<Figure size 640x480 with 1 Axes>"
      ]
     },
     "metadata": {},
     "output_type": "display_data"
    }
   ],
   "source": [
    "clustering_utils.silhouette_criteria((X), clustering_func=clustering_utils.KMeans, custom_distance=custom_distance)\n",
    "plt.legend(('s(k) - silhouette coef'))\n",
    "plt.ylabel('s = коэффициент силуэта')\n",
    "plt.show()"
   ]
  },
  {
   "cell_type": "code",
   "execution_count": 190,
   "metadata": {},
   "outputs": [
    {
     "data": {
      "text/plain": [
       "<matplotlib.legend.Legend at 0x20c76282180>"
      ]
     },
     "execution_count": 190,
     "metadata": {},
     "output_type": "execute_result"
    },
    {
     "data": {
      "image/png": "[encoded data removed]",
      "text/plain": [
       "<Figure size 640x480 with 1 Axes>"
      ]
     },
     "metadata": {},
     "output_type": "display_data"
    }
   ],
   "source": [
    "clustering_utils.elbow_criteria(X, clustering_func=clustering_utils.KMeans, custom_distance=custom_distance)\n",
    "plt.ylabel('W = внутрикластерное расстояние')\n",
    "plt.legend('W')"
   ]
  },
  {
   "cell_type": "code",
   "execution_count": 191,
   "metadata": {},
   "outputs": [],
   "source": [
    "#kmeans = KMeans(n_clusters=2).fit_predict((X))\n",
    "kmeans = clustering_utils.KMeans((X), custom_distance, n_clusters = 4)"
   ]
  },
  {
   "cell_type": "code",
   "execution_count": 192,
   "metadata": {},
   "outputs": [
    {
     "data": {
      "text/html": [
       "<div>\n",
       "<style scoped>\n",
       "    .dataframe tbody tr th:only-of-type {\n",
       "        vertical-align: middle;\n",
       "    }\n",
       "\n",
       "    .dataframe tbody tr th {\n",
       "        vertical-align: top;\n",
       "    }\n",
       "\n",
       "    .dataframe thead th {\n",
       "        text-align: right;\n",
       "    }\n",
       "</style>\n",
       "<table border=\"1\" class=\"dataframe\">\n",
       "  <thead>\n",
       "    <tr style=\"text-align: right;\">\n",
       "      <th></th>\n",
       "      <th>1_1</th>\n",
       "      <th>1_2</th>\n",
       "      <th>1_3</th>\n",
       "      <th>1_4</th>\n",
       "      <th>1_5</th>\n",
       "      <th>1_6</th>\n",
       "      <th>1_7</th>\n",
       "      <th>1_8</th>\n",
       "      <th>1_9</th>\n",
       "      <th>1_10</th>\n",
       "      <th>...</th>\n",
       "      <th>12_11</th>\n",
       "      <th>12_12</th>\n",
       "      <th>12_13</th>\n",
       "      <th>12_14</th>\n",
       "      <th>12_15</th>\n",
       "      <th>12_16</th>\n",
       "      <th>12_17</th>\n",
       "      <th>12_18</th>\n",
       "      <th>cluster_id</th>\n",
       "      <th>region_name</th>\n",
       "    </tr>\n",
       "  </thead>\n",
       "  <tbody>\n",
       "    <tr>\n",
       "      <th>0</th>\n",
       "      <td>18.0</td>\n",
       "      <td>3.0</td>\n",
       "      <td>0.0</td>\n",
       "      <td>0.0</td>\n",
       "      <td>18.0</td>\n",
       "      <td>0.0</td>\n",
       "      <td>3.0</td>\n",
       "      <td>18.0</td>\n",
       "      <td>0.0</td>\n",
       "      <td>17.0</td>\n",
       "      <td>...</td>\n",
       "      <td>0.0</td>\n",
       "      <td>0.0</td>\n",
       "      <td>0.0</td>\n",
       "      <td>0.0</td>\n",
       "      <td>0.0</td>\n",
       "      <td>0.0</td>\n",
       "      <td>0.0</td>\n",
       "      <td>0.0</td>\n",
       "      <td>0</td>\n",
       "      <td>Алтайский край</td>\n",
       "    </tr>\n",
       "    <tr>\n",
       "      <th>1</th>\n",
       "      <td>0.0</td>\n",
       "      <td>0.0</td>\n",
       "      <td>0.0</td>\n",
       "      <td>0.0</td>\n",
       "      <td>0.0</td>\n",
       "      <td>0.0</td>\n",
       "      <td>0.0</td>\n",
       "      <td>0.0</td>\n",
       "      <td>0.0</td>\n",
       "      <td>6.0</td>\n",
       "      <td>...</td>\n",
       "      <td>0.0</td>\n",
       "      <td>0.0</td>\n",
       "      <td>0.0</td>\n",
       "      <td>0.0</td>\n",
       "      <td>0.0</td>\n",
       "      <td>0.0</td>\n",
       "      <td>0.0</td>\n",
       "      <td>0.0</td>\n",
       "      <td>3</td>\n",
       "      <td>Амурская область</td>\n",
       "    </tr>\n",
       "    <tr>\n",
       "      <th>2</th>\n",
       "      <td>2.0</td>\n",
       "      <td>0.0</td>\n",
       "      <td>0.0</td>\n",
       "      <td>0.0</td>\n",
       "      <td>2.0</td>\n",
       "      <td>0.0</td>\n",
       "      <td>0.0</td>\n",
       "      <td>2.0</td>\n",
       "      <td>0.0</td>\n",
       "      <td>0.0</td>\n",
       "      <td>...</td>\n",
       "      <td>0.0</td>\n",
       "      <td>5.0</td>\n",
       "      <td>0.0</td>\n",
       "      <td>0.0</td>\n",
       "      <td>0.0</td>\n",
       "      <td>0.0</td>\n",
       "      <td>0.0</td>\n",
       "      <td>0.0</td>\n",
       "      <td>0</td>\n",
       "      <td>Архангельская область</td>\n",
       "    </tr>\n",
       "    <tr>\n",
       "      <th>3</th>\n",
       "      <td>0.0</td>\n",
       "      <td>0.0</td>\n",
       "      <td>0.0</td>\n",
       "      <td>0.0</td>\n",
       "      <td>0.0</td>\n",
       "      <td>0.0</td>\n",
       "      <td>0.0</td>\n",
       "      <td>0.0</td>\n",
       "      <td>0.0</td>\n",
       "      <td>0.0</td>\n",
       "      <td>...</td>\n",
       "      <td>0.0</td>\n",
       "      <td>0.0</td>\n",
       "      <td>0.0</td>\n",
       "      <td>0.0</td>\n",
       "      <td>0.0</td>\n",
       "      <td>0.0</td>\n",
       "      <td>0.0</td>\n",
       "      <td>0.0</td>\n",
       "      <td>3</td>\n",
       "      <td>Астраханская область</td>\n",
       "    </tr>\n",
       "    <tr>\n",
       "      <th>4</th>\n",
       "      <td>2.0</td>\n",
       "      <td>0.0</td>\n",
       "      <td>0.0</td>\n",
       "      <td>0.0</td>\n",
       "      <td>3.0</td>\n",
       "      <td>0.0</td>\n",
       "      <td>0.0</td>\n",
       "      <td>2.0</td>\n",
       "      <td>0.0</td>\n",
       "      <td>2.0</td>\n",
       "      <td>...</td>\n",
       "      <td>0.0</td>\n",
       "      <td>0.0</td>\n",
       "      <td>0.0</td>\n",
       "      <td>0.0</td>\n",
       "      <td>0.0</td>\n",
       "      <td>0.0</td>\n",
       "      <td>0.0</td>\n",
       "      <td>0.0</td>\n",
       "      <td>3</td>\n",
       "      <td>Белгородская область</td>\n",
       "    </tr>\n",
       "  </tbody>\n",
       "</table>\n",
       "<p>5 rows × 218 columns</p>\n",
       "</div>"
      ],
      "text/plain": [
       "    1_1  1_2  1_3  1_4   1_5  1_6  1_7   1_8  1_9  1_10  ...  12_11  12_12  \\\n",
       "0  18.0  3.0  0.0  0.0  18.0  0.0  3.0  18.0  0.0  17.0  ...    0.0    0.0   \n",
       "1   0.0  0.0  0.0  0.0   0.0  0.0  0.0   0.0  0.0   6.0  ...    0.0    0.0   \n",
       "2   2.0  0.0  0.0  0.0   2.0  0.0  0.0   2.0  0.0   0.0  ...    0.0    5.0   \n",
       "3   0.0  0.0  0.0  0.0   0.0  0.0  0.0   0.0  0.0   0.0  ...    0.0    0.0   \n",
       "4   2.0  0.0  0.0  0.0   3.0  0.0  0.0   2.0  0.0   2.0  ...    0.0    0.0   \n",
       "\n",
       "   12_13  12_14  12_15  12_16  12_17  12_18  cluster_id            region_name  \n",
       "0    0.0    0.0    0.0    0.0    0.0    0.0           0         Алтайский край  \n",
       "1    0.0    0.0    0.0    0.0    0.0    0.0           3       Амурская область  \n",
       "2    0.0    0.0    0.0    0.0    0.0    0.0           0  Архангельская область  \n",
       "3    0.0    0.0    0.0    0.0    0.0    0.0           3   Астраханская область  \n",
       "4    0.0    0.0    0.0    0.0    0.0    0.0           3   Белгородская область  \n",
       "\n",
       "[5 rows x 218 columns]"
      ]
     },
     "execution_count": 192,
     "metadata": {},
     "output_type": "execute_result"
    }
   ],
   "source": [
    "df_regions_clustered = df_regions1.copy()\n",
    "df_regions_clustered['cluster_id'] = kmeans[0]\n",
    "df_regions_clustered['region_name'] = df_region_ids['region']\n",
    "# for i in range(len(df_regions1)) :\n",
    "#     df_regions1['region_name'][i] = df_region_ids[i]\n",
    "df_regions_clustered.head()"
   ]
  },
  {
   "cell_type": "code",
   "execution_count": 193,
   "metadata": {},
   "outputs": [],
   "source": [
    "df_regions_clustered.to_csv('regions1.csv')"
   ]
  },
  {
   "cell_type": "code",
   "execution_count": 194,
   "metadata": {},
   "outputs": [],
   "source": [
    "labels = df_regions_clustered['cluster_id']"
   ]
  },
  {
   "cell_type": "code",
   "execution_count": 195,
   "metadata": {},
   "outputs": [
    {
     "data": {
      "text/plain": [
       "0.35832657037180865"
      ]
     },
     "execution_count": 195,
     "metadata": {},
     "output_type": "execute_result"
    }
   ],
   "source": [
    "sil_score = silhouette_score((X), labels, metric=custom_distance)\n",
    "sil_score"
   ]
  },
  {
   "cell_type": "code",
   "execution_count": 196,
   "metadata": {},
   "outputs": [],
   "source": [
    "dbscan = DBSCAN(metric=euclidian_weightned_distance).fit(X)"
   ]
  },
  {
   "cell_type": "code",
   "execution_count": 247,
   "metadata": {},
   "outputs": [],
   "source": [
    "df_regions_clustered_temp = df_regions_clustered[df_regions_clustered['cluster_id'] == 0].drop(['cluster_id', 'region_name'], axis=1)"
   ]
  },
  {
   "cell_type": "code",
   "execution_count": 248,
   "metadata": {},
   "outputs": [],
   "source": [
    "df_weather_clusters = df_weather.copy()\n",
    "df_weather_clusters['cluster_id'] = [np.nan] * len(df_weather_clusters)\n",
    "df_weather_clusters['condition_name'] = [weather_ids[i] for i in df_weather_clusters['conditions_ids']]\n",
    "df_weather_clusters['condition_name'] = pd.Categorical(df_weather_clusters['condition_name'], list(df_weather_clusters['condition_name'].unique()))"
   ]
  },
  {
   "cell_type": "code",
   "execution_count": 249,
   "metadata": {},
   "outputs": [],
   "source": [
    "for i in range(len(df_weather_clusters)) :\n",
    "    r = df_regions_clustered.iloc[df_weather_clusters.iloc[i]['region_ids']]['cluster_id']\n",
    "    df_weather_clusters.at[i, 'cluster_id'] = r\n",
    "    #print(df_regions_clustered.iloc[i]['cluster_id'])"
   ]
  },
  {
   "cell_type": "code",
   "execution_count": 250,
   "metadata": {},
   "outputs": [
    {
     "data": {
      "text/html": [
       "<div>\n",
       "<style scoped>\n",
       "    .dataframe tbody tr th:only-of-type {\n",
       "        vertical-align: middle;\n",
       "    }\n",
       "\n",
       "    .dataframe tbody tr th {\n",
       "        vertical-align: top;\n",
       "    }\n",
       "\n",
       "    .dataframe thead th {\n",
       "        text-align: right;\n",
       "    }\n",
       "</style>\n",
       "<table border=\"1\" class=\"dataframe\">\n",
       "  <thead>\n",
       "    <tr style=\"text-align: right;\">\n",
       "      <th></th>\n",
       "      <th>region_ids</th>\n",
       "      <th>conditions_ids</th>\n",
       "      <th>month</th>\n",
       "      <th>cluster_id</th>\n",
       "      <th>condition_name</th>\n",
       "    </tr>\n",
       "  </thead>\n",
       "  <tbody>\n",
       "    <tr>\n",
       "      <th>0</th>\n",
       "      <td>43</td>\n",
       "      <td>6</td>\n",
       "      <td>4.0</td>\n",
       "      <td>1.0</td>\n",
       "      <td>лавины</td>\n",
       "    </tr>\n",
       "    <tr>\n",
       "      <th>1</th>\n",
       "      <td>46</td>\n",
       "      <td>6</td>\n",
       "      <td>4.0</td>\n",
       "      <td>2.0</td>\n",
       "      <td>лавины</td>\n",
       "    </tr>\n",
       "    <tr>\n",
       "      <th>2</th>\n",
       "      <td>22</td>\n",
       "      <td>6</td>\n",
       "      <td>4.0</td>\n",
       "      <td>1.0</td>\n",
       "      <td>лавины</td>\n",
       "    </tr>\n",
       "    <tr>\n",
       "      <th>3</th>\n",
       "      <td>42</td>\n",
       "      <td>6</td>\n",
       "      <td>4.0</td>\n",
       "      <td>2.0</td>\n",
       "      <td>лавины</td>\n",
       "    </tr>\n",
       "    <tr>\n",
       "      <th>4</th>\n",
       "      <td>77</td>\n",
       "      <td>6</td>\n",
       "      <td>4.0</td>\n",
       "      <td>2.0</td>\n",
       "      <td>лавины</td>\n",
       "    </tr>\n",
       "  </tbody>\n",
       "</table>\n",
       "</div>"
      ],
      "text/plain": [
       "  region_ids conditions_ids  month  cluster_id condition_name\n",
       "0         43              6    4.0         1.0         лавины\n",
       "1         46              6    4.0         2.0         лавины\n",
       "2         22              6    4.0         1.0         лавины\n",
       "3         42              6    4.0         2.0         лавины\n",
       "4         77              6    4.0         2.0         лавины"
      ]
     },
     "execution_count": 250,
     "metadata": {},
     "output_type": "execute_result"
    }
   ],
   "source": [
    "df_weather_clusters.head()"
   ]
  },
  {
   "cell_type": "code",
   "execution_count": 251,
   "metadata": {},
   "outputs": [],
   "source": [
    "stop_list = ['гололед, изморозь', \"снегопад, снежный покров\", \"заморозки\", \"ветер\", \"дожди, ливни\", \"гроза\", \"паводки, подтопления, наводнения\", \"град\", \"лавины\"]"
   ]
  },
  {
   "cell_type": "code",
   "execution_count": 252,
   "metadata": {},
   "outputs": [],
   "source": [
    "interesting = ['мороз', 'лавины', 'сель', 'вулканическая активность', 'пылевая буря', 'ураган', 'смерч']"
   ]
  },
  {
   "cell_type": "code",
   "execution_count": 264,
   "metadata": {},
   "outputs": [],
   "source": [
    "df_weather_clusters1 = df_weather_clusters[df_weather_clusters['condition_name'].isin(interesting)].dropna()"
   ]
  },
  {
   "cell_type": "code",
   "execution_count": 271,
   "metadata": {},
   "outputs": [],
   "source": [
    "df_weather_clusters1['condition_name'] = pd.Categorical(df_weather_clusters1['condition_name'], \n",
    "                                                        categories=['лавины', 'сель', \n",
    "                                                                            \"вулканическая активность\", \n",
    "                                                                            \"мороз\", \"пылевая буря\",\n",
    "                                                                            \"ураган\", \"смерч\"])"
   ]
  },
  {
   "cell_type": "code",
   "execution_count": 295,
   "metadata": {},
   "outputs": [],
   "source": [
    "def get_smth(i) :\n",
    "    return df_weather_clusters[df_weather_clusters['cluster_id'] == i]['conditions_ids']"
   ]
  },
  {
   "cell_type": "code",
   "execution_count": 296,
   "metadata": {},
   "outputs": [
    {
     "data": {
      "text/plain": [
       "(0.0, 0.2)"
      ]
     },
     "execution_count": 296,
     "metadata": {},
     "output_type": "execute_result"
    },
    {
     "data": {
      "image/png": "[encoded data removed]",
      "text/plain": [
       "<Figure size 640x480 with 1 Axes>"
      ]
     },
     "metadata": {},
     "output_type": "display_data"
    }
   ],
   "source": [
    "sns.histplot(get_smth(float(0)), stat='probability', discrete=True)\n",
    "plt.xticks(rotation=90)\n",
    "plt.ylim(0, 0.2)"
   ]
  },
  {
   "cell_type": "code",
   "execution_count": 297,
   "metadata": {},
   "outputs": [
    {
     "data": {
      "text/plain": [
       "(0.0, 0.2)"
      ]
     },
     "execution_count": 297,
     "metadata": {},
     "output_type": "execute_result"
    },
    {
     "data": {
      "image/png": "[encoded data removed]",
      "text/plain": [
       "<Figure size 640x480 with 1 Axes>"
      ]
     },
     "metadata": {},
     "output_type": "display_data"
    }
   ],
   "source": [
    "sns.histplot(get_smth(float(1)), discrete=True, stat='probability')\n",
    "plt.xticks(rotation=90)\n",
    "plt.ylim(0, 0.2)"
   ]
  },
  {
   "cell_type": "code",
   "execution_count": 298,
   "metadata": {},
   "outputs": [
    {
     "data": {
      "text/plain": [
       "(0.0, 0.2)"
      ]
     },
     "execution_count": 298,
     "metadata": {},
     "output_type": "execute_result"
    },
    {
     "data": {
      "image/png": "[encoded data removed]",
      "text/plain": [
       "<Figure size 640x480 with 1 Axes>"
      ]
     },
     "metadata": {},
     "output_type": "display_data"
    }
   ],
   "source": [
    "sns.histplot(get_smth(float(2)), discrete=True, stat='probability')\n",
    "plt.xticks(rotation=90)\n",
    "plt.ylim(0, 0.2)"
   ]
  },
  {
   "cell_type": "code",
   "execution_count": 299,
   "metadata": {},
   "outputs": [
    {
     "data": {
      "text/plain": [
       "(0.0, 0.2)"
      ]
     },
     "execution_count": 299,
     "metadata": {},
     "output_type": "execute_result"
    },
    {
     "data": {
      "image/png": "[encoded data removed]",
      "text/plain": [
       "<Figure size 640x480 with 1 Axes>"
      ]
     },
     "metadata": {},
     "output_type": "display_data"
    }
   ],
   "source": [
    "sns.histplot(get_smth(float(3)), discrete=True, stat='probability')\n",
    "plt.xticks(rotation=90)\n",
    "plt.ylim(0, 0.2)"
   ]
  }
 ],
 "metadata": {
  "kernelspec": {
   "display_name": "venv",
   "language": "python",
   "name": "python3"
  },
  "language_info": {
   "codemirror_mode": {
    "name": "ipython",
    "version": 3
   },
   "file_extension": ".py",
   "mimetype": "text/x-python",
   "name": "python",
   "nbconvert_exporter": "python",
   "pygments_lexer": "ipython3",
   "version": "3.12.1"
  }
 },
 "nbformat": 4,
 "nbformat_minor": 2
}
